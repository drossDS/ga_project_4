{
  "nbformat": 4,
  "nbformat_minor": 0,
  "metadata": {
    "colab": {
      "provenance": [],
      "gpuType": "T4"
    },
    "kernelspec": {
      "name": "python3",
      "display_name": "Python 3"
    },
    "language_info": {
      "name": "python"
    },
    "accelerator": "GPU",
    "gpuClass": "standard"
  },
  "cells": [
    {
      "cell_type": "markdown",
      "source": [
        "# Severity Classification of Alzheimer's Disease Using MRI Images\n",
        "## Jason Lu, Juan Marcucci, Dan Rossetti\n",
        "---\n",
        "---"
      ],
      "metadata": {
        "id": "RF5NXZMa71Go"
      }
    },
    {
      "cell_type": "markdown",
      "source": [
        "# NOTEBOOK 4 - Binary Classification CNN and Pretrained Models\n",
        "\n",
        "Notebook Summary:\n",
        "\n",
        "This notebook seeks to understand if creating binary classifcaiton versions of some of the models in Notebooks 2 and 3 on only the No Dementia and Very Mild Dementia classes will have a positive impact on the models' ability to predict those two classes.  \n",
        "\n",
        "The purpose of this Notebook as it related to the problem statement is to understand if a binary classifcation model increase would be better suited to the early detection of dementia and possibly Alzheimer's.\n",
        "\n",
        "---\n",
        "---"
      ],
      "metadata": {
        "id": "Ny-QED7WqAd3"
      }
    },
    {
      "cell_type": "markdown",
      "source": [
        "#  WARNING:  NOTEBOOK MUST BE RUN IN GOOGLE COLAB\n",
        "\n",
        "Due to the computational demands of the convolutional neural networks used in this model requiring GPUs, this project was created entirely on Google Colab.\n",
        "\n",
        "Further, the data are imported by cloning the Github repo where all of the project materials are stored into Google Colab so that the code can be run anywhere with the relative paths in this notebook.  With that, these relative paths will not work outside of Google Colab.\n",
        "\n",
        "---\n",
        "---"
      ],
      "metadata": {
        "id": "vr_Mi2K8ikyJ"
      }
    },
    {
      "cell_type": "markdown",
      "source": [
        "# 0 - Imports"
      ],
      "metadata": {
        "id": "EgSc3w0C7vQt"
      }
    },
    {
      "cell_type": "code",
      "source": [
        "# Basic imports\n",
        "import matplotlib.pyplot as plt\n",
        "import numpy as np\n",
        "import pandas as pd\n",
        "import seaborn as sns\n",
        "import os\n",
        "\n",
        "# Every method known to set random seeds (from the following sources):\n",
        "# Help with this import:  https://www.tensorflow.org/tutorials/quickstart/advanced\n",
        "import random\n",
        "import tensorflow as tf\n",
        "seed = 42\n",
        "# Source provided by Eric Bayless for help with this:  \n",
        "#  https://www.tensorflow.org/api_docs/python/tf/keras/utils/set_random_seed\n",
        "tf.keras.utils.set_random_seed(seed)\n",
        "random.seed(seed)\n",
        "np.random.seed(seed)\n",
        "# Help with code below from:  https://www.tensorflow.org/api_docs/python/tf/random/set_seed\n",
        "tf.random.set_seed(seed)\n",
        "\n",
        "# TensorFlow imports\n",
        "from tensorflow.keras.layers import Dense, Dropout, Flatten, Conv2D, MaxPooling2D, BatchNormalization\n",
        "from tensorflow.keras.models import Sequential\n",
        "from tensorflow.keras.preprocessing import image_dataset_from_directory\n",
        "from tensorflow.keras.preprocessing.image import img_to_array, load_img\n",
        "from tensorflow.keras import layers\n",
        "from tensorflow.keras.callbacks import EarlyStopping\n",
        "from tensorflow.keras.layers.experimental import preprocessing\n",
        "from tensorflow.keras import regularizers\n",
        "from tensorflow.keras.models import Model\n",
        "\n",
        "# Pretrained model imports:\n",
        "from tensorflow.keras.applications.inception_v3 import InceptionV3, preprocess_input\n",
        "\n",
        "\n",
        "# Evaluation imports\n",
        "from sklearn.metrics import ConfusionMatrixDisplay, accuracy_score, classification_report\n",
        "from sklearn.metrics import roc_auc_score"
      ],
      "metadata": {
        "id": "XA_LK9JiSzEY"
      },
      "execution_count": null,
      "outputs": []
    },
    {
      "cell_type": "markdown",
      "source": [
        "# 1 - Connect to Github, Read Data\n",
        "These are the same steps as perfomred in all other notebooks to gather the data.\n",
        "\n",
        "As they have been previously established and commented, they are combined into a single cell for space and notebook readability."
      ],
      "metadata": {
        "id": "uNUUw_uK8juy"
      }
    },
    {
      "cell_type": "code",
      "source": [
        "# Clear out the directory in case the code is re-run top to bottom.\n",
        "!rm -r ga_project_4/\n",
        "\n",
        "# Inspiration to do this from:  https://stackoverflow.com/questions/65386157/importing-images-from-github-to-colab\n",
        "# Code help from:  https://neptune.ai/blog/google-colab-dealing-with-files\n",
        "!git clone https://github.com/drossDS/ga_project_4.git\n",
        "\n",
        "# Help with this code to cd into folders from:  \n",
        "#  https://stackoverflow.com/questions/48298146/changing-directory-in-google-colab-breaking-out-of-the-python-interpreter\n",
        "%cd ga_project_4/\n",
        "%cd data/\n",
        "\n",
        "# Unzip data\n",
        "!unzip -q archive_binary.zip"
      ],
      "metadata": {
        "colab": {
          "base_uri": "https://localhost:8080/"
        },
        "id": "rpXQOeqMNyU4",
        "outputId": "144763fa-22f2-42de-893a-d0d2297b4cf8"
      },
      "execution_count": null,
      "outputs": [
        {
          "output_type": "stream",
          "name": "stdout",
          "text": [
            "rm: cannot remove 'ga_project_4/': No such file or directory\n",
            "Cloning into 'ga_project_4'...\n",
            "remote: Enumerating objects: 6494, done.\u001b[K\n",
            "remote: Counting objects: 100% (70/70), done.\u001b[K\n",
            "remote: Compressing objects: 100% (49/49), done.\u001b[K\n",
            "remote: Total 6494 (delta 25), reused 50 (delta 18), pack-reused 6424\u001b[K\n",
            "Receiving objects: 100% (6494/6494), 157.24 MiB | 16.06 MiB/s, done.\n",
            "Resolving deltas: 100% (27/27), done.\n",
            "/content/ga_project_4\n",
            "/content/ga_project_4/data\n"
          ]
        }
      ]
    },
    {
      "cell_type": "markdown",
      "source": [
        "# 2 - Create Training and Validation Datasets, Import Testing Dataset\n",
        "\n",
        "This is virtually the same code as in all other notebooks except that it has been adapted for a binary classifcaiton model.\n",
        "\n",
        "It should further be noted that in order for the code below to work, an entirely separate zip file from that used in all other notebooks had to be created with only the No Dementia and Very Mild Dementia images.  There does not appear to be a way to have the 'image_dataset_from_directory' function run in such a way that the classes (generated from the subfolders in the specified directory) can be selected individually."
      ],
      "metadata": {
        "id": "nNfw-mnuEbVD"
      }
    },
    {
      "cell_type": "code",
      "source": [
        "# Create the training dataset using a 90/10 train/validation split\n",
        "train_ds = image_dataset_from_directory(\n",
        "    '/content/ga_project_4/data/Alzheimer_s Dataset/train',\n",
        "    image_size = (208, 176),\n",
        "    batch_size = 32,\n",
        "    seed = 42,\n",
        "    validation_split = 0.20,\n",
        "    subset = 'training',\n",
        "    label_mode = 'binary',\n",
        "    \n",
        ")\n",
        "\n",
        "val_ds = image_dataset_from_directory(\n",
        "    '/content/ga_project_4/data/Alzheimer_s Dataset/train',\n",
        "    image_size = (208, 176),\n",
        "    batch_size = 32,\n",
        "    seed = 42,\n",
        "    validation_split = 0.20,\n",
        "    subset = 'validation', \n",
        "    label_mode = 'binary',\n",
        ")\n",
        "\n",
        "'''\n",
        "The testing dataset will be imported in a similar manner, but\n",
        "does not need to be batched or split.  So some of the arguments input\n",
        "previously will not need to be called\n",
        "'''\n",
        "test_ds = image_dataset_from_directory(\n",
        "    '/content/ga_project_4/data/Alzheimer_s Dataset/test',\n",
        "    image_size = (208, 176),\n",
        "    label_mode = 'binary',\n",
        "    seed = 42,\n",
        "    shuffle = False\n",
        ")"
      ],
      "metadata": {
        "colab": {
          "base_uri": "https://localhost:8080/"
        },
        "id": "EWpOctAaT8TZ",
        "outputId": "9b6bf0f4-1c7d-4d35-af7d-f6f36d605bec"
      },
      "execution_count": null,
      "outputs": [
        {
          "output_type": "stream",
          "name": "stdout",
          "text": [
            "Found 4352 files belonging to 2 classes.\n",
            "Using 3482 files for training.\n",
            "Found 4352 files belonging to 2 classes.\n",
            "Using 870 files for validation.\n",
            "Found 1088 files belonging to 2 classes.\n"
          ]
        }
      ]
    },
    {
      "cell_type": "markdown",
      "source": [
        "# 3 - Modeling\n",
        "This section will examine three models from Notebooks 2 & 3 specifically the:\n",
        "* Initial CNN Model\n",
        "* Optimized CNN Model\n",
        "* InceptionV3 Model\n",
        "\n",
        "While nearly identical to the code in the other notebooks, they are adapted for binary classification as required.\n",
        "\n",
        "## Evaluation Metrics\n",
        "When comapring binary models, the primary evaluation metric that will be used is the accuracy.  Aiming for a model with the best possible accuracy is an all-encompassing strategy to target model optimization and for model selection.\n",
        "\n",
        "Clinically, the recall (sensitivity) for each class will also need to be examined, particularly for the Very Mild Dementia class, given that this portion of the model is focused on early detection of Alzheimers.  Recall will provide a good indication of how much of the Very Mild Dementia class is being properly identified.  It is preferable to have a model which would favor false positives so that further work could be done by clinicians to more confidently diagnose Alheimer's dementia.\n",
        "\n",
        "Lastly, recall will be the primary metric to evaluate the performance of this binary classification model against the multi-class classification models as the recall metric is tailored to the proper identification of a particular class regardless of how many other classes are present.  This is required to understand if a binary classification model would do a better job at identifying very mild dementia than the multi-class models."
      ],
      "metadata": {
        "id": "gS-AdXHvKJ8B"
      }
    },
    {
      "cell_type": "markdown",
      "source": [
        "## 3.1 - Modeling Functions\n",
        "These functions are nearly identical to those used in Notebooks 2 & 3 but adapated for the outputs of a binary classification model."
      ],
      "metadata": {
        "id": "tQNove7rlhTb"
      }
    },
    {
      "cell_type": "code",
      "source": [
        "'''\n",
        "*** THIS FUNCTION IS REQUIRED TO COMPARE PREDICTED CLASSES TO TRUE CLASSES ***\n",
        "\n",
        "Here a function is being defined which will extract and format the target data from the \n",
        "BatchDataset and then format it into an array of numbers that provide the class numbers.\n",
        "\n",
        "It will optionally convert this to a pandas series for pandas operations (like .value_counts()).\n",
        "'''\n",
        "\n",
        "def target_extractor(data_array, series=False):\n",
        "\n",
        "  # Source for help with the following line of code to extract classes:\n",
        "  #  https://stackoverflow.com/questions/56226621/how-to-extract-data-labels-back-from-tensorflow-dataset\n",
        "  '''\n",
        "  The list comprehension produces a list as in the other notebooks.\n",
        "  \n",
        "  For the binary classification model, this function is rewritten to handing the\n",
        "  differing format that is output for the targets.  Argmax cannot be used and \n",
        "  instead, two concatenation functions must be used to fully flatten the nested\n",
        "  prediction arrays into a single array that can be input into metrics functions.\n",
        "  '''  \n",
        "  y = pd.Series(np.concatenate(np.concatenate([y for x, y in data_array])))\n",
        "\n",
        "  return y"
      ],
      "metadata": {
        "id": "24lzPYk2ZATF"
      },
      "execution_count": null,
      "outputs": []
    },
    {
      "cell_type": "code",
      "source": [
        "'''\n",
        "Create a funciton which will plot the final and best training and validation accuracies on a given model.\n",
        "'''\n",
        "\n",
        "def acc_printer(model):\n",
        "  # Print the training and testing accuracies\n",
        "  print(f\"Final Model Accuracy on Training Data:  {model.history['acc'][-1]}\")\n",
        "  print(f\"Final Model Accuracy on Validation Data:  {model.history['val_acc'][-1]}\")\n",
        "\n",
        "  print(f\"Best Model Accuracy on Training Data:  {model.history['acc'][np.argmax(model.history['acc'])]}\")\n",
        "  print(f\"Best Model Accuracy on Validation Data:  {model.history['val_acc'][np.argmax(model.history['val_acc'])]}\")"
      ],
      "metadata": {
        "id": "_8U5l5COPPhW"
      },
      "execution_count": null,
      "outputs": []
    },
    {
      "cell_type": "code",
      "source": [
        "'''\n",
        "Create a fucntion which plots confusion matrix and gives accuracy stats\n",
        "'''\n",
        "\n",
        "def results_plotter(input_model,\n",
        "                    result_variable,\n",
        "                    fig_name,\n",
        "                    report = False):\n",
        "  # Print the training and testing accuracies\n",
        "  acc_printer(result_variable)\n",
        "\n",
        "  # Get the model predictions\n",
        "  preds = input_model.predict(test_ds, verbose = 0)\n",
        "\n",
        "  # Convert the model predicitons into an array with class values\n",
        "  preds_arr = np.round(preds)\n",
        "  print(preds_arr.shape)\n",
        "  preds_arr\n",
        "\n",
        "  # Create a y_test array from test_ds that can be compared to the predictions\n",
        "  y_test = target_extractor(test_ds)\n",
        "  print(y_test.shape)\n",
        "  y_test\n",
        "\n",
        "  ConfusionMatrixDisplay.from_predictions(y_test, preds_arr)\n",
        "  plt.title(f'{fig_name}', fontsize = 20)\n",
        "  plt.xlabel('Predicted Label', size = 16)\n",
        "  plt.ylabel('True Label', size = 16)\n",
        "  # Help relabeling the axes from:  https://matplotlib.org/stable/api/_as_gen/matplotlib.pyplot.xticks.html\n",
        "  plt.xticks([0,1], ['none', 'vmld'])\n",
        "  plt.yticks([0,1], ['none', 'vmld']);\n",
        "  print(f'Model Accuracy on Test Data: {accuracy_score(y_test, preds_arr)} \\n')\n",
        "  plt.savefig(f'/content/ga_project_4/conf_matrix_{fig_name}.png')\n",
        "  plt.show();\n",
        "\n",
        "  if report == True:\n",
        "    print(classification_report(y_test, preds_arr, target_names = [\"none\", 'very_mild']))"
      ],
      "metadata": {
        "id": "5SBKwQtFPSRm"
      },
      "execution_count": null,
      "outputs": []
    },
    {
      "cell_type": "markdown",
      "source": [
        "## 3.2 - Establish Null Model"
      ],
      "metadata": {
        "id": "YpBrhrbELp-A"
      }
    },
    {
      "cell_type": "code",
      "source": [
        "# Find the value counts of each class using the function created\n",
        "\n",
        "'''\n",
        "The code below was written in a way which does not work on binary models.\n",
        "target_extractor(train_ds, series=True).value_counts(normalize = True)\n",
        "'''\n",
        "# A double concatenate is required to pull the values out\n",
        "pd.Series(np.concatenate(np.concatenate([y for x, y in test_ds]))).value_counts(normalize = True)"
      ],
      "metadata": {
        "colab": {
          "base_uri": "https://localhost:8080/"
        },
        "id": "bMtCDYUUcXGF",
        "outputId": "da49d102-b2ea-4c2d-dac7-4287902f6f8f"
      },
      "execution_count": null,
      "outputs": [
        {
          "output_type": "execute_result",
          "data": {
            "text/plain": [
              "0.0    0.588235\n",
              "1.0    0.411765\n",
              "dtype: float64"
            ]
          },
          "metadata": {},
          "execution_count": 7
        }
      ]
    },
    {
      "cell_type": "markdown",
      "source": [
        "#### OBSERVATIONS:\n",
        "* The classes are represented as numbers representing the folders in their (alphabetical) order:\n",
        "  * Class 0 is No Dementia\n",
        "  * Class 1 is Very Mild Dementia\n",
        "* The classes are split at nearly 60/40 No Dementia/Very Mild Dementia.  The null model would then assume that all images are brains with no dementia and have an accuracy of approximately 58.8%\n",
        "* Successful models below will need to exceed this accuracy\n"
      ],
      "metadata": {
        "id": "nTyepQtVi7W5"
      }
    },
    {
      "cell_type": "markdown",
      "source": [
        "## 3.3 - Run Initial Convolutional Neural Network Model\n",
        "Same model architecture as from Notebook 2."
      ],
      "metadata": {
        "id": "9mn2qZxwLrfv"
      }
    },
    {
      "cell_type": "code",
      "source": [
        "# Instantiate the sequential model_bin\n",
        "model_bin = Sequential()\n",
        "\n",
        "# Input later is needed for the model_bin summary\n",
        "model_bin.add(layers.Input(shape=(208, 176, 3)))\n",
        "\n",
        "# Rescaling layer - which basically divides everything by 255 to get\n",
        "#  the values between 0 and 1\n",
        "model_bin.add(layers.Rescaling(1./255)) \n",
        "\n",
        "# Convolutional and pooling layer\n",
        "model_bin.add(Conv2D(64, (3,3), activation = 'relu')) # 'kernel' and 'filter' are synonymous\n",
        "model_bin.add(MaxPooling2D(pool_size=(2,2)))\n",
        "\n",
        "# Convolutional and pooling layer\n",
        "model_bin.add(Conv2D(64, (3,3), activation = 'relu')) # 'kernel' and 'filter' are synonymous\n",
        "model_bin.add(MaxPooling2D(pool_size=(2,2)))\n",
        "\n",
        "# The above layers need to be flattened to a single dimension to be fed into\n",
        "#  the dense layers below.\n",
        "model_bin.add(Flatten())\n",
        "\n",
        "# First dense layer\n",
        "model_bin.add(Dense(64, activation='relu'))\n",
        "\n",
        "# Output\n",
        "model_bin.add(Dense(1, activation = 'sigmoid'))\n",
        "\n",
        "# Compile it\n",
        "model_bin.compile(loss = 'bce', optimizer = 'adam', metrics = ['acc'])\n",
        "\n",
        "# Fit it\n",
        "res_model_bin = model_bin.fit(train_ds,\n",
        "               epochs = 5,\n",
        "               batch_size = 64,\n",
        "               validation_data = val_ds,\n",
        "               verbose = 1)"
      ],
      "metadata": {
        "colab": {
          "base_uri": "https://localhost:8080/"
        },
        "id": "bLQY8s-ET8Yp",
        "outputId": "1355e5a0-b157-48cc-857b-bd111c8ef3a0"
      },
      "execution_count": null,
      "outputs": [
        {
          "output_type": "stream",
          "name": "stdout",
          "text": [
            "Epoch 1/5\n",
            "109/109 [==============================] - 20s 66ms/step - loss: 0.6658 - acc: 0.6160 - val_loss: 0.5478 - val_acc: 0.7149\n",
            "Epoch 2/5\n",
            "109/109 [==============================] - 6s 53ms/step - loss: 0.4675 - acc: 0.7771 - val_loss: 0.3284 - val_acc: 0.8747\n",
            "Epoch 3/5\n",
            "109/109 [==============================] - 6s 58ms/step - loss: 0.2473 - acc: 0.9009 - val_loss: 0.1534 - val_acc: 0.9448\n",
            "Epoch 4/5\n",
            "109/109 [==============================] - 6s 52ms/step - loss: 0.1025 - acc: 0.9647 - val_loss: 0.0875 - val_acc: 0.9644\n",
            "Epoch 5/5\n",
            "109/109 [==============================] - 6s 57ms/step - loss: 0.0379 - acc: 0.9905 - val_loss: 0.0392 - val_acc: 0.9931\n"
          ]
        }
      ]
    },
    {
      "cell_type": "code",
      "source": [
        "# Print the results\n",
        "results_plotter(model_bin, res_model_bin, fig_name = 'Initial Binary CNN Model', report = True)"
      ],
      "metadata": {
        "colab": {
          "base_uri": "https://localhost:8080/",
          "height": 781
        },
        "id": "S37ajICPvJC2",
        "outputId": "a133a19c-5edc-44b2-f072-5915ebe95f8b"
      },
      "execution_count": null,
      "outputs": [
        {
          "output_type": "stream",
          "name": "stdout",
          "text": [
            "Final Model Accuracy on Training Data:  0.9905226826667786\n",
            "Final Model Accuracy on Validation Data:  0.9931034445762634\n",
            "Best Model Accuracy on Training Data:  0.9905226826667786\n",
            "Best Model Accuracy on Validation Data:  0.9931034445762634\n",
            "(1088, 1)\n",
            "(1088,)\n",
            "Model Accuracy on Test Data: 0.6397058823529411 \n",
            "\n"
          ]
        },
        {
          "output_type": "display_data",
          "data": {
            "text/plain": [
              "<Figure size 640x480 with 2 Axes>"
            ],
            "image/png": "[encoded data removed]"
          },
          "metadata": {}
        },
        {
          "output_type": "stream",
          "name": "stdout",
          "text": [
            "              precision    recall  f1-score   support\n",
            "\n",
            "        none       0.81      0.50      0.62       640\n",
            "   very_mild       0.54      0.83      0.66       448\n",
            "\n",
            "    accuracy                           0.64      1088\n",
            "   macro avg       0.68      0.67      0.64      1088\n",
            "weighted avg       0.70      0.64      0.64      1088\n",
            "\n"
          ]
        }
      ]
    },
    {
      "cell_type": "markdown",
      "source": [
        "#### OBSERVATIONS:\n",
        "* The overall model accuracy on the test data is much lower than on the training and validation data at approximately 64% (given that the neural network results vary from run to run)\n",
        "* From the confusion matrix, the model appears to be confusing some of the no dementia and very mild dementia images\n",
        "* The recall (sensitivity) for the Very Mild Dementia class is higher than that of the No Dementia.  This is beneficial from the standpoint of detecting a disease where a higher percentage of false positives is better than a higher percentage of false negatives.\n",
        "* As comapred to the multiclass classification model in Notebook 2, this binary model appears to have the same recall value at 83%"
      ],
      "metadata": {
        "id": "5c8NHmfQu9Jb"
      }
    },
    {
      "cell_type": "markdown",
      "source": [
        "# 3.4 Optimized CNN\n",
        "Same model architecture as from Notebook 2."
      ],
      "metadata": {
        "id": "PJifcyFQTZQN"
      }
    },
    {
      "cell_type": "code",
      "source": [
        "# Instantiate the sequential model_a_bin\n",
        "model_a_bin = Sequential()\n",
        "\n",
        "# Early stopping\n",
        "early_stopping = EarlyStopping(patience=10)\n",
        "\n",
        "# Input layer and Rescaling\n",
        "model_a_bin.add(layers.Input(shape=(208, 176, 3)))\n",
        "model_a_bin.add(layers.Rescaling(1./255)) \n",
        "\n",
        "# Convolutional and pooling layer - 1\n",
        "model_a_bin.add(Conv2D(64, (3,3),\n",
        "                 padding='same', \n",
        "                 activation = 'relu')) \n",
        "model_a_bin.add(MaxPooling2D(pool_size=(2,2)))\n",
        "\n",
        "# Batch Normalization layer\n",
        "model_a_bin.add(BatchNormalization())\n",
        "\n",
        "# Convolutional and pooling layer\n",
        "model_a_bin.add(Conv2D(64, (3,3), \n",
        "                 padding='same',\n",
        "                 activation = 'relu')) \n",
        "model_a_bin.add(MaxPooling2D(pool_size=(2,2)))\n",
        "model_a_bin.add(BatchNormalization())\n",
        "\n",
        "# Convolutional and pooling layer\n",
        "model_a_bin.add(Conv2D(64, (3,3), padding='same', activation = 'relu')) \n",
        "model_a_bin.add(MaxPooling2D(pool_size=(2,2)))\n",
        "model_a_bin.add(BatchNormalization())\n",
        "\n",
        "# Convlutional and pooling layers 4 - 7\n",
        "model_a_bin.add(Conv2D(64, (3,3), padding='same', activation = 'relu')) \n",
        "model_a_bin.add(MaxPooling2D(pool_size=(2,2)))\n",
        "\n",
        "model_a_bin.add(Conv2D(64, (3,3), padding='same', activation = 'relu')) \n",
        "model_a_bin.add(MaxPooling2D(pool_size=(2,2)))\n",
        "\n",
        "model_a_bin.add(Conv2D(64, (3,3), padding='same', activation = 'relu')) \n",
        "model_a_bin.add(MaxPooling2D(pool_size=(2,2)))\n",
        "\n",
        "model_a_bin.add(Conv2D(64, (3,3), padding='same', activation = 'relu')) \n",
        "model_a_bin.add(MaxPooling2D(pool_size=(2,2)))\n",
        "\n",
        "# Flatten layer\n",
        "model_a_bin.add(Flatten())\n",
        "\n",
        "# Fully connected layer\n",
        "model_a_bin.add(Dense(64, activation='relu'))\n",
        "\n",
        "# Batch normalization before output layer\n",
        "model_a_bin.add(BatchNormalization())\n",
        "\n",
        "# Output layer\n",
        "model_a_bin.add(Dense(1, activation = 'sigmoid'))\n",
        "\n",
        "# Compile model_a_bin\n",
        "model_a_bin.compile(loss = 'bce', optimizer = 'adam', metrics = ['acc'])\n",
        "\n",
        "# Fit model_a_bin\n",
        "res_model_a_bin = model_a_bin.fit(train_ds,\n",
        "               epochs = 20,\n",
        "               batch_size = 64,\n",
        "               validation_data = val_ds,\n",
        "               verbose = 1,\n",
        "               callbacks=[early_stopping])"
      ],
      "metadata": {
        "colab": {
          "base_uri": "https://localhost:8080/"
        },
        "id": "ZzE1QzgBTTB2",
        "outputId": "d18a8935-6669-41d5-8414-2012d3720bbc"
      },
      "execution_count": null,
      "outputs": [
        {
          "output_type": "stream",
          "name": "stdout",
          "text": [
            "Epoch 1/20\n",
            "109/109 [==============================] - 16s 78ms/step - loss: 0.5669 - acc: 0.7028 - val_loss: 0.6774 - val_acc: 0.5563\n",
            "Epoch 2/20\n",
            "109/109 [==============================] - 8s 72ms/step - loss: 0.4028 - acc: 0.8090 - val_loss: 0.7961 - val_acc: 0.5655\n",
            "Epoch 3/20\n",
            "109/109 [==============================] - 7s 65ms/step - loss: 0.2592 - acc: 0.8978 - val_loss: 0.4644 - val_acc: 0.7943\n",
            "Epoch 4/20\n",
            "109/109 [==============================] - 8s 71ms/step - loss: 0.1567 - acc: 0.9385 - val_loss: 1.5436 - val_acc: 0.5632\n",
            "Epoch 5/20\n",
            "109/109 [==============================] - 8s 69ms/step - loss: 0.0814 - acc: 0.9719 - val_loss: 0.6012 - val_acc: 0.7621\n",
            "Epoch 6/20\n",
            "109/109 [==============================] - 7s 65ms/step - loss: 0.0562 - acc: 0.9825 - val_loss: 2.3659 - val_acc: 0.5736\n",
            "Epoch 7/20\n",
            "109/109 [==============================] - 8s 69ms/step - loss: 0.0574 - acc: 0.9787 - val_loss: 0.9452 - val_acc: 0.7253\n",
            "Epoch 8/20\n",
            "109/109 [==============================] - 8s 72ms/step - loss: 0.0434 - acc: 0.9856 - val_loss: 0.1656 - val_acc: 0.9276\n",
            "Epoch 9/20\n",
            "109/109 [==============================] - 7s 65ms/step - loss: 0.0213 - acc: 0.9937 - val_loss: 1.0123 - val_acc: 0.7092\n",
            "Epoch 10/20\n",
            "109/109 [==============================] - 8s 69ms/step - loss: 0.0244 - acc: 0.9925 - val_loss: 0.0501 - val_acc: 0.9828\n",
            "Epoch 11/20\n",
            "109/109 [==============================] - 8s 72ms/step - loss: 0.0106 - acc: 0.9977 - val_loss: 0.0548 - val_acc: 0.9828\n",
            "Epoch 12/20\n",
            "109/109 [==============================] - 7s 65ms/step - loss: 0.0060 - acc: 0.9989 - val_loss: 1.5417 - val_acc: 0.5862\n",
            "Epoch 13/20\n",
            "109/109 [==============================] - 8s 69ms/step - loss: 0.0057 - acc: 0.9991 - val_loss: 0.9542 - val_acc: 0.6805\n",
            "Epoch 14/20\n",
            "109/109 [==============================] - 8s 71ms/step - loss: 0.0266 - acc: 0.9917 - val_loss: 0.2542 - val_acc: 0.9218\n",
            "Epoch 15/20\n",
            "109/109 [==============================] - 7s 65ms/step - loss: 0.1337 - acc: 0.9509 - val_loss: 0.2137 - val_acc: 0.9310\n",
            "Epoch 16/20\n",
            "109/109 [==============================] - 7s 67ms/step - loss: 0.0481 - acc: 0.9833 - val_loss: 3.6186 - val_acc: 0.5678\n",
            "Epoch 17/20\n",
            "109/109 [==============================] - 7s 65ms/step - loss: 0.0291 - acc: 0.9905 - val_loss: 0.0565 - val_acc: 0.9851\n",
            "Epoch 18/20\n",
            "109/109 [==============================] - 8s 68ms/step - loss: 0.0173 - acc: 0.9948 - val_loss: 0.0247 - val_acc: 0.9908\n",
            "Epoch 19/20\n",
            "109/109 [==============================] - 8s 69ms/step - loss: 0.0057 - acc: 0.9994 - val_loss: 0.0750 - val_acc: 0.9747\n",
            "Epoch 20/20\n",
            "109/109 [==============================] - 8s 68ms/step - loss: 0.0030 - acc: 0.9997 - val_loss: 0.0098 - val_acc: 0.9977\n"
          ]
        }
      ]
    },
    {
      "cell_type": "code",
      "source": [
        "# Print the results\n",
        "results_plotter(model_a_bin, res_model_a_bin, fig_name = 'Optimized Binary CNN Model', report = True)"
      ],
      "metadata": {
        "colab": {
          "base_uri": "https://localhost:8080/",
          "height": 781
        },
        "id": "qAbFH8bvTS__",
        "outputId": "4db207d2-aabb-415a-ac16-e3f54c053762"
      },
      "execution_count": null,
      "outputs": [
        {
          "output_type": "stream",
          "name": "stdout",
          "text": [
            "Final Model Accuracy on Training Data:  0.9997128248214722\n",
            "Final Model Accuracy on Validation Data:  0.9977011680603027\n",
            "Best Model Accuracy on Training Data:  0.9997128248214722\n",
            "Best Model Accuracy on Validation Data:  0.9977011680603027\n",
            "(1088, 1)\n",
            "(1088,)\n",
            "Model Accuracy on Test Data: 0.8115808823529411 \n",
            "\n"
          ]
        },
        {
          "output_type": "display_data",
          "data": {
            "text/plain": [
              "<Figure size 640x480 with 2 Axes>"
            ],
            "image/png": "[encoded data removed]"
          },
          "metadata": {}
        },
        {
          "output_type": "stream",
          "name": "stdout",
          "text": [
            "              precision    recall  f1-score   support\n",
            "\n",
            "        none       0.84      0.83      0.84       640\n",
            "   very_mild       0.77      0.78      0.77       448\n",
            "\n",
            "    accuracy                           0.81      1088\n",
            "   macro avg       0.81      0.81      0.81      1088\n",
            "weighted avg       0.81      0.81      0.81      1088\n",
            "\n"
          ]
        }
      ]
    },
    {
      "cell_type": "markdown",
      "source": [
        "#### OBSERVATIONS\n",
        "* The optimized model appears to have better overall performance than the previous model with an accuracy of about 81%\n",
        "* This model appears to confuse a smaller number of images as compared to the previous model\n",
        "* Likewise, precision and recall values have increased, and the recall for the Very Mild Dementia class now slightly lower than that of the No Dementia class\n",
        "* As comapred to the multiclass classification model in Notebook 2, this binary model appears to have a much better recall value for the Very Mild Dementia class at 78% compared to 29% for the multi-class model"
      ],
      "metadata": {
        "id": "vKakgBhAUXTu"
      }
    },
    {
      "cell_type": "markdown",
      "source": [
        "## 3.5 - Pretrainaed Model - Inception V3\n",
        "Same model architecture as from Notebook 3."
      ],
      "metadata": {
        "id": "EflRv9DfUXMQ"
      }
    },
    {
      "cell_type": "code",
      "source": [
        "# The following sources were used to implement this code:\n",
        "#  https://keras.io/api/applications/inceptionv3/\n",
        "#  https://cloud.google.com/tpu/docs/inception-v3-advanced\n",
        "\n",
        "# Early stopping\n",
        "early_stopping = EarlyStopping(patience=4)\n",
        "\n",
        "# Function to resize and rescale images\n",
        "def resize_and_rescale(image, label):\n",
        "    image = tf.image.resize(image, [299, 299])\n",
        "    image = preprocess_input(image) \n",
        "    return image, label\n",
        "\n",
        "# Create new datasets for InceptionV3 model\n",
        "train_ds_inception = train_ds.map(resize_and_rescale)\n",
        "val_ds_inception = val_ds.map(resize_and_rescale)\n",
        "test_ds_inception = test_ds.map(resize_and_rescale)\n",
        "\n",
        "# Load InceptionV3 model\n",
        "inception = InceptionV3(include_top=False, weights='imagenet', input_shape=(299, 299, 3))\n",
        "\n",
        "# freeze the layers\n",
        "for layer in inception.layers:\n",
        "    layer.trainable = False\n",
        "\n",
        "# input layer\n",
        "inputs = layers.Input(shape=(299, 299, 3))\n",
        "\n",
        "# pre-process for InceptionV3\n",
        "x = preprocess_input(inputs) \n",
        "\n",
        "x = inception(x, training=False)\n",
        "\n",
        "x = Flatten()(x) \n",
        "\n",
        "x = Dense(64, activation='relu')(x)\n",
        "\n",
        "x = BatchNormalization()(x)\n",
        "\n",
        "x = Dropout(0.2)(x)\n",
        "\n",
        "outputs = Dense(1, activation = 'sigmoid')(x)\n",
        "\n",
        "# Assemble the model\n",
        "model_inception_bin = Model(inputs=inputs, outputs=outputs)\n",
        "\n",
        "# Compile the model\n",
        "model_inception_bin.compile(loss='bce', optimizer='adam', metrics=['acc'])\n",
        "\n",
        "# Fit the model to the data\n",
        "res_cnn_inception_bin = model_inception_bin.fit(train_ds_inception,\n",
        "                    epochs=20,\n",
        "                    batch_size=16,\n",
        "                    validation_data=val_ds_inception,\n",
        "                    verbose=1,\n",
        "                    callbacks=[early_stopping])"
      ],
      "metadata": {
        "colab": {
          "base_uri": "https://localhost:8080/"
        },
        "id": "MWYuo8Y7UWIu",
        "outputId": "84539337-089f-4c49-e321-f646800477a5"
      },
      "execution_count": null,
      "outputs": [
        {
          "output_type": "stream",
          "name": "stdout",
          "text": [
            "Downloading data from https://storage.googleapis.com/tensorflow/keras-applications/inception_v3/inception_v3_weights_tf_dim_ordering_tf_kernels_notop.h5\n",
            "87910968/87910968 [==============================] - 5s 0us/step\n",
            "Epoch 1/20\n",
            "109/109 [==============================] - 34s 223ms/step - loss: 0.6085 - acc: 0.6841 - val_loss: 0.7027 - val_acc: 0.6345\n",
            "Epoch 2/20\n",
            "109/109 [==============================] - 19s 174ms/step - loss: 0.4115 - acc: 0.8142 - val_loss: 0.4537 - val_acc: 0.7667\n",
            "Epoch 3/20\n",
            "109/109 [==============================] - 21s 189ms/step - loss: 0.2583 - acc: 0.8978 - val_loss: 0.2495 - val_acc: 0.9023\n",
            "Epoch 4/20\n",
            "109/109 [==============================] - 19s 172ms/step - loss: 0.1607 - acc: 0.9434 - val_loss: 0.3553 - val_acc: 0.8345\n",
            "Epoch 5/20\n",
            "109/109 [==============================] - 21s 188ms/step - loss: 0.1071 - acc: 0.9670 - val_loss: 0.1511 - val_acc: 0.9448\n",
            "Epoch 6/20\n",
            "109/109 [==============================] - 19s 171ms/step - loss: 0.0870 - acc: 0.9733 - val_loss: 0.1174 - val_acc: 0.9598\n",
            "Epoch 7/20\n",
            "109/109 [==============================] - 20s 180ms/step - loss: 0.0572 - acc: 0.9897 - val_loss: 0.1071 - val_acc: 0.9667\n",
            "Epoch 8/20\n",
            "109/109 [==============================] - 21s 188ms/step - loss: 0.0494 - acc: 0.9885 - val_loss: 0.1818 - val_acc: 0.9195\n",
            "Epoch 9/20\n",
            "109/109 [==============================] - 21s 187ms/step - loss: 0.0402 - acc: 0.9908 - val_loss: 0.1478 - val_acc: 0.9471\n",
            "Epoch 10/20\n",
            "109/109 [==============================] - 19s 173ms/step - loss: 0.0810 - acc: 0.9750 - val_loss: 0.1184 - val_acc: 0.9586\n",
            "Epoch 11/20\n",
            "109/109 [==============================] - 21s 191ms/step - loss: 0.0326 - acc: 0.9943 - val_loss: 0.1857 - val_acc: 0.9391\n"
          ]
        }
      ]
    },
    {
      "cell_type": "code",
      "source": [
        "# Print the training and testing accuracies\n",
        "acc_printer(res_cnn_inception_bin)\n",
        "# Get the model predictions\n",
        "preds = model_inception_bin.predict(test_ds_inception)\n",
        "\n",
        "# Convert the model predictions into an array with class values\n",
        "preds_arr = np.argmax(preds, axis = 1)\n",
        "print(preds_arr.shape)\n",
        "preds_arr\n",
        "# Create a y_test array from test_ds that can be compared to the predictions\n",
        "y_test = target_extractor(test_ds_inception)\n",
        "print(y_test.shape)\n",
        "y_test\n",
        "\n",
        "ConfusionMatrixDisplay.from_predictions(y_test, preds_arr)\n",
        "plt.title(f'InceptionV3 Binary', fontsize = 20)\n",
        "plt.xlabel('Predicted Label', size = 16)\n",
        "plt.ylabel('True Label', size = 16)\n",
        "# Help relabeling the axes from:  https://matplotlib.org/stable/api/_as_gen/matplotlib.pyplot.xticks.html\n",
        "plt.xticks([0,1], ['none', 'vmld'])\n",
        "plt.yticks([0,1], ['none', 'vmld']);\n",
        "plt.savefig(f'/content/ga_project_4/conf_matrix_inceptionV3_bin.png')\n",
        "plt.show();\n",
        "\n",
        "print(f'Model Accuracy on Test Data: {accuracy_score(y_test, preds_arr)} \\n')\n",
        "print(f'Model Roc Auc on Test Data: {roc_auc_score(y_test, preds, multi_class=\"ovr\")} \\n')\n",
        "\n",
        "print(classification_report(y_test, preds_arr, target_names = [\"none\", 'very_mild']))"
      ],
      "metadata": {
        "colab": {
          "base_uri": "https://localhost:8080/",
          "height": 957
        },
        "id": "IQpPDfkhYHXA",
        "outputId": "ed7b60e3-5464-424b-990a-7e00baffcffa"
      },
      "execution_count": null,
      "outputs": [
        {
          "output_type": "stream",
          "name": "stdout",
          "text": [
            "Final Model Accuracy on Training Data:  0.9942561984062195\n",
            "Final Model Accuracy on Validation Data:  0.9390804767608643\n",
            "Best Model Accuracy on Training Data:  0.9942561984062195\n",
            "Best Model Accuracy on Validation Data:  0.9666666388511658\n",
            "34/34 [==============================] - 6s 137ms/step\n",
            "(1088,)\n",
            "(1088,)\n"
          ]
        },
        {
          "output_type": "display_data",
          "data": {
            "text/plain": [
              "<Figure size 640x480 with 2 Axes>"
            ],
            "image/png": "[encoded data removed]"
          },
          "metadata": {}
        },
        {
          "output_type": "stream",
          "name": "stdout",
          "text": [
            "Model Accuracy on Test Data: 0.5882352941176471 \n",
            "\n",
            "Model Roc Auc on Test Data: 0.8509277343749999 \n",
            "\n",
            "              precision    recall  f1-score   support\n",
            "\n",
            "        none       0.59      1.00      0.74       640\n",
            "   very_mild       0.00      0.00      0.00       448\n",
            "\n",
            "    accuracy                           0.59      1088\n",
            "   macro avg       0.29      0.50      0.37      1088\n",
            "weighted avg       0.35      0.59      0.44      1088\n",
            "\n"
          ]
        },
        {
          "output_type": "stream",
          "name": "stderr",
          "text": [
            "/usr/local/lib/python3.10/dist-packages/sklearn/metrics/_classification.py:1344: UndefinedMetricWarning: Precision and F-score are ill-defined and being set to 0.0 in labels with no predicted samples. Use `zero_division` parameter to control this behavior.\n",
            "  _warn_prf(average, modifier, msg_start, len(result))\n",
            "/usr/local/lib/python3.10/dist-packages/sklearn/metrics/_classification.py:1344: UndefinedMetricWarning: Precision and F-score are ill-defined and being set to 0.0 in labels with no predicted samples. Use `zero_division` parameter to control this behavior.\n",
            "  _warn_prf(average, modifier, msg_start, len(result))\n",
            "/usr/local/lib/python3.10/dist-packages/sklearn/metrics/_classification.py:1344: UndefinedMetricWarning: Precision and F-score are ill-defined and being set to 0.0 in labels with no predicted samples. Use `zero_division` parameter to control this behavior.\n",
            "  _warn_prf(average, modifier, msg_start, len(result))\n"
          ]
        }
      ]
    },
    {
      "cell_type": "markdown",
      "source": [
        "#### OBSERVATIONS\n",
        "* From the confusion matrix, it can be see that the incpetion model is simply acting as the null model and is incapable of making an accuracte (or any) prediction for Very Mild Dementia\n",
        "  * With this, a discussion of accuracy and recall would be moot given that the model is not attempting to make classifcation for Very Mild Dementia."
      ],
      "metadata": {
        "id": "ogPgRuL4qzT2"
      }
    },
    {
      "cell_type": "markdown",
      "source": [
        "# 4 - Binary Modeling Conclusions\n",
        "Overall the results are mixed depending on which metric is being examined and which model is being run.\n",
        "* The binary initial CNN model performed at 64% accuracy compared to 57% accuracy for the multt-class model.  However the recall for very mild dementia was comparable to the multiclass model at 83%\n",
        "* The binary optimized CNN model perfomred better at 81% accuracy compared to 52% for the multi-class model.  This was also the best performing binary classification model.  Additionally, the recall was higher at 78% versus 29% for the multi-class\n",
        "* The accuracy of the binary InceptionV3 model is identical to that of the null model at 59% given that the model trained itself to always choose the No Dementia class.  From an accuracy standpoint, this is slightly better than the mutli-class InceptionV3 model which had an accuracy of 71%"
      ],
      "metadata": {
        "id": "vfmhKJe9rIG4"
      }
    }
  ]
}