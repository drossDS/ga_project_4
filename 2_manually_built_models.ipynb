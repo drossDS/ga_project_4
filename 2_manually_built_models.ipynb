{
  "cells": [
    {
      "cell_type": "markdown",
      "metadata": {
        "id": "RF5NXZMa71Go"
      },
      "source": [
        "---\n",
        "# Severity Classification of Alzheimer's Disease Using MRI Images\n",
        "## Jason Lu, Juan Marcucci, Dan Rossetti\n",
        "---\n",
        "---"
      ]
    },
    {
      "cell_type": "markdown",
      "metadata": {
        "id": "Ny-QED7WqAd3"
      },
      "source": [
        "# NOTEBOOK 2 - Manually-Built CNN Models\n",
        "\n",
        "Notebook Summary:\n",
        "This notebook contains a series of Convolutional Neural Network (CNN) models which have been employed to perform multi-class image classification.  A variety ot tehcniques are employed to improve model performance.\n",
        "\n",
        "---\n",
        "---"
      ]
    },
    {
      "cell_type": "markdown",
      "source": [
        "#  WARNING:  NOTEBOOK MUST BE RUN IN GOOGLE COLAB\n",
        "\n",
        "Due to the computational demands of the convolutional neural networks used in this model requiring GPUs, this project was created entirely on Google Colab.\n",
        "\n",
        "Further, the data are imported by cloning the Github repo where all of the project materials are stored into Google Colab so that the code can be run anywhere with the relative paths in this notebook.  With that, these relative paths will not work outside of Google Colab.\n",
        "\n",
        "---\n",
        "---"
      ],
      "metadata": {
        "id": "qj0UAXYnxfYh"
      }
    },
    {
      "cell_type": "markdown",
      "metadata": {
        "id": "EgSc3w0C7vQt"
      },
      "source": [
        "# 0 - Imports"
      ]
    },
    {
      "cell_type": "code",
      "execution_count": null,
      "metadata": {
        "id": "XA_LK9JiSzEY"
      },
      "outputs": [],
      "source": [
        "# Basic imports\n",
        "import matplotlib.pyplot as plt\n",
        "import numpy as np\n",
        "import pandas as pd\n",
        "import seaborn as sns\n",
        "import os\n",
        "\n",
        "# Every method known to set random seeds (from the following sources):\n",
        "# Help with this import:  https://www.tensorflow.org/tutorials/quickstart/advanced\n",
        "import random\n",
        "import tensorflow as tf\n",
        "seed = 42\n",
        "# Source provided by Eric Bayless for help with this:  \n",
        "#  https://www.tensorflow.org/api_docs/python/tf/keras/utils/set_random_seed\n",
        "tf.keras.utils.set_random_seed(seed)\n",
        "random.seed(seed)\n",
        "np.random.seed(seed)\n",
        "# Help with code below from:  https://www.tensorflow.org/api_docs/python/tf/random/set_seed\n",
        "tf.random.set_seed(seed)\n",
        "\n",
        "# TensorFlow imports\n",
        "from tensorflow.keras.layers import Dense, Dropout, Flatten, Conv2D, MaxPooling2D, BatchNormalization\n",
        "from tensorflow.keras.models import Sequential\n",
        "from tensorflow.keras.preprocessing import image_dataset_from_directory\n",
        "from tensorflow.keras.preprocessing.image import img_to_array, load_img\n",
        "from tensorflow.keras import layers\n",
        "from tensorflow.keras.callbacks import EarlyStopping\n",
        "from tensorflow.keras.layers.experimental import preprocessing\n",
        "from tensorflow.keras import regularizers\n",
        "\n",
        "# Evaluation imports\n",
        "from sklearn.metrics import ConfusionMatrixDisplay, accuracy_score, classification_report"
      ]
    },
    {
      "cell_type": "markdown",
      "metadata": {
        "id": "uNUUw_uK8juy"
      },
      "source": [
        "# 1 - Connect to Github, Read Data\n",
        "These are the same steps as perfomred in all other notebooks to gather the data.\n",
        "\n",
        "As they have been previously established and commented, they are combined into a single cell for space and notebook readability."
      ]
    },
    {
      "cell_type": "code",
      "execution_count": null,
      "metadata": {
        "colab": {
          "base_uri": "https://localhost:8080/"
        },
        "id": "RJlASe-4mq4L",
        "outputId": "be29f2e2-126e-4190-bc7a-c2eede04f8e2"
      },
      "outputs": [
        {
          "output_type": "stream",
          "name": "stdout",
          "text": [
            "rm: cannot remove 'ga_project_4/': No such file or directory\n",
            "Cloning into 'ga_project_4'...\n",
            "remote: Enumerating objects: 6488, done.\u001b[K\n",
            "remote: Counting objects: 100% (64/64), done.\u001b[K\n",
            "remote: Compressing objects: 100% (45/45), done.\u001b[K\n",
            "remote: Total 6488 (delta 23), reused 45 (delta 16), pack-reused 6424\u001b[K\n",
            "Receiving objects: 100% (6488/6488), 157.10 MiB | 15.20 MiB/s, done.\n",
            "Resolving deltas: 100% (25/25), done.\n",
            "/content/ga_project_4\n",
            "/content/ga_project_4/data\n"
          ]
        }
      ],
      "source": [
        "# Clear out the directory in case the code is re-run top to bottom.\n",
        "!rm -r ga_project_4/\n",
        "\n",
        "# Inspiration to do this from:  https://stackoverflow.com/questions/65386157/importing-images-from-github-to-colab\n",
        "# Code help from:  https://neptune.ai/blog/google-colab-dealing-with-files\n",
        "!git clone https://github.com/drossDS/ga_project_4.git\n",
        "\n",
        "# Help with this code to cd into folders from:  \n",
        "#  https://stackoverflow.com/questions/48298146/changing-directory-in-google-colab-breaking-out-of-the-python-interpreter\n",
        "%cd ga_project_4/\n",
        "%cd data/\n",
        "\n",
        "# Unzip data\n",
        "!unzip -q archive.zip"
      ]
    },
    {
      "cell_type": "markdown",
      "metadata": {
        "id": "nNfw-mnuEbVD"
      },
      "source": [
        "# 2 - Create Training and Validation Datasets, Import Testing Dataset\n",
        "The code below is the same code used in notebooks 1 through 3 to import the data for multi-class classification\n"
      ]
    },
    {
      "cell_type": "code",
      "execution_count": null,
      "metadata": {
        "colab": {
          "base_uri": "https://localhost:8080/"
        },
        "id": "EWpOctAaT8TZ",
        "outputId": "60bb7995-dbf0-45cd-f7fc-7334d0c5ef24"
      },
      "outputs": [
        {
          "output_type": "stream",
          "name": "stdout",
          "text": [
            "Found 5121 files belonging to 4 classes.\n",
            "Using 4097 files for training.\n",
            "Found 5121 files belonging to 4 classes.\n",
            "Using 1024 files for validation.\n",
            "Found 1279 files belonging to 4 classes.\n"
          ]
        }
      ],
      "source": [
        "# Create the training dataset using a 80/20 train/validation split\n",
        "train_ds = image_dataset_from_directory(\n",
        "    '/content/ga_project_4/data/Alzheimer_s Dataset/train',\n",
        "    image_size = (208, 176),\n",
        "    batch_size = 32,\n",
        "    seed = 42,\n",
        "    validation_split = 0.20,\n",
        "    subset = 'training',\n",
        "    label_mode = 'categorical',\n",
        ")\n",
        "\n",
        "val_ds = image_dataset_from_directory(\n",
        "    '/content/ga_project_4/data/Alzheimer_s Dataset/train',\n",
        "    image_size = (208, 176),\n",
        "    batch_size = 32,\n",
        "    seed = 42,\n",
        "    validation_split = 0.20,\n",
        "    subset = 'validation', \n",
        "    label_mode = 'categorical',\n",
        ")\n",
        "\n",
        "'''\n",
        "The testing dataset will be imported in a similar manner, but\n",
        "does not need to be batched or split.  So some of the arguments input\n",
        "previously will not need to be called.\n",
        "\n",
        "NOTE:  Below, 'shuffle' must be set to false.  It was discovered that every time\n",
        "that test_ds is called (even just to extract the target values), different \n",
        "values were being provided each time that the extraction was run.  Turning\n",
        "off shuffle (by setting it to false) proved effective in producing consistent\n",
        "target values for the testing dataset.\n",
        "'''\n",
        "test_ds = image_dataset_from_directory(\n",
        "    '/content/ga_project_4/data/Alzheimer_s Dataset/test',\n",
        "    image_size = (208, 176),\n",
        "    label_mode = 'categorical',\n",
        "    seed = 42,\n",
        "    shuffle = False\n",
        ")"
      ]
    },
    {
      "cell_type": "markdown",
      "metadata": {
        "id": "gS-AdXHvKJ8B"
      },
      "source": [
        "# 3 - Modeling - Manually-Built\n",
        "This notebook contains entirely manually built (not pre-trained) models.\n",
        "\n",
        "#### NOTE:\n",
        "The models in this notebook are presented in their final configurations as it is not feasible to show all alterations to model parameters and laters.  Instead, general trends that were discovered during the model optimization process are discussed.\n",
        "\n",
        "## Evaluation Metrics\n",
        "The primary evaluation metric that will be used is the accuracy.  Aiming for a model with the best possible accuracy is an all-encompassing strategy to target model optimization and for model selection given that this is a multi-class classification model with a primary focus on prediction.\n",
        "\n",
        "Clinically, the recall (sensitivity) for each class will also need to be examined, particularly for the Very Mild Dementia, Mild Dementia, and Moderate Dementia classes.  Recall will provide a good indication of how much of each class is being properly identified.  This is important when considering that the goal of this model in a medical setting would be to identify dementia so that treatement options can be prescribed.  If recall is low, that would mean that the demential class(es) is not being identified which may prevent patients from receiving treatment."
      ]
    },
    {
      "cell_type": "markdown",
      "metadata": {
        "id": "HnlWbIC_N2OU"
      },
      "source": [
        "## 3.1 - Modeling Functions\n",
        "Below, a variety of functions are created to perform repetetive tasks more efficiently in the code.\n"
      ]
    },
    {
      "cell_type": "code",
      "execution_count": null,
      "metadata": {
        "id": "24lzPYk2ZATF"
      },
      "outputs": [],
      "source": [
        "'''\n",
        "*** THIS FUNCTION IS REQUIRED TO COMPARE PREDICTED CLASSES TO TRUE CLASSES ***\n",
        "\n",
        "Here a function is being defined which will extract and format the target data from the \n",
        "BatchDataset and then format it into an array of numbers that provide the class numbers.\n",
        "\n",
        "It will optionally convert this to a pandas series for pandas operations (like .value_counts()).\n",
        "'''\n",
        "\n",
        "def target_extractor(data_array, series=False):\n",
        "\n",
        "  # Source for help with the following line of code to extract classes:\n",
        "  #  https://stackoverflow.com/questions/56226621/how-to-extract-data-labels-back-from-tensorflow-dataset\n",
        "  '''\n",
        "  The list comprehension produces a list which is then turned into a numpy array with concatenate.  Note that\n",
        "  an array of 1 x 4 arrays is created, with 4 probabilties of belonging to each class.\n",
        "  '''\n",
        "  y = np.concatenate([y for x, y in data_array], axis=0)\n",
        "  \n",
        "  '''\n",
        "  The following argument takes the resulting array containing only probabilities of belonging\n",
        "  to each class, determines which is the largest probability class, and replaces the entire\n",
        "  1 x 4 array with a number corresponding to the highest probability class.  This soure was\n",
        "  helpful wiht this:  \n",
        "  https://stackoverflow.com/questions/68836551/keras-attributeerror-sequential-object-has-no-attribute-predict-classes\n",
        "  '''\n",
        "  y = np.argmax(y, axis = 1)\n",
        "\n",
        "  # Make y a pandas array for when .value_counts needs to be called\n",
        "  if series == True:\n",
        "    y = pd.Series(y)\n",
        "\n",
        "  return y"
      ]
    },
    {
      "cell_type": "code",
      "execution_count": null,
      "metadata": {
        "id": "0fEzQD7Nw8-9"
      },
      "outputs": [],
      "source": [
        "'''\n",
        "Create a funciton which will plot the final and best training and validation accuracies on a given model.\n",
        "'''\n",
        "\n",
        "def acc_printer(model):\n",
        "  # Print the training and testing accuracies\n",
        "  print(f\"Final Model Accuracy on Training Data:  {model.history['acc'][-1]}\")\n",
        "  print(f\"Final Model Accuracy on Validation Data:  {model.history['val_acc'][-1]}\")\n",
        "\n",
        "  print(f\"Best Model Accuracy on Training Data:  {model.history['acc'][np.argmax(model.history['acc'])]}\")\n",
        "  print(f\"Best Model Accuracy on Validation Data:  {model.history['val_acc'][np.argmax(model.history['val_acc'])]}\")"
      ]
    },
    {
      "cell_type": "code",
      "execution_count": null,
      "metadata": {
        "id": "H5hY58KcPdA5"
      },
      "outputs": [],
      "source": [
        "'''\n",
        "Create a fucntion which plots confusion matrix and gives accuracy stats\n",
        "'''\n",
        "\n",
        "def results_plotter(input_model,\n",
        "                    result_variable,\n",
        "                    fig_name,\n",
        "                    report = False):\n",
        "  # Print the training and testing accuracies\n",
        "  acc_printer(result_variable)\n",
        "\n",
        "  # Get the model predictions\n",
        "  preds = input_model.predict(test_ds, verbose = 0)\n",
        "\n",
        "  # Convert the model predicitons into an array with class values\n",
        "  preds_arr = np.argmax(preds, axis = 1)\n",
        "  print(preds_arr.shape)\n",
        "  preds_arr\n",
        "\n",
        "  # Create a y_test array from test_ds that can be compared to the predictions\n",
        "  y_test = target_extractor(test_ds)\n",
        "  print(y_test.shape)\n",
        "  y_test\n",
        "\n",
        "  ConfusionMatrixDisplay.from_predictions(y_test, preds_arr)\n",
        "  plt.title(f'{fig_name}', fontsize = 20)\n",
        "  plt.xlabel('Predicted Label', size = 16)\n",
        "  plt.ylabel('True Label', size = 16)\n",
        "  # Help relabeling the axes from:  https://matplotlib.org/stable/api/_as_gen/matplotlib.pyplot.xticks.html\n",
        "  plt.xticks([0,1,2,3], ['mld', 'mod', 'none', 'vmld'])\n",
        "  plt.yticks([0,1,2,3], ['mld', 'mod', 'none', 'vmld']);\n",
        "  print(f'Model Accuracy on Test Data: {accuracy_score(y_test, preds_arr)} \\n')\n",
        "  plt.savefig(f'/content/ga_project_4/conf_matrix_{fig_name}.png')\n",
        "  plt.show();\n",
        "\n",
        "  if report == True:\n",
        "    print(classification_report(y_test, preds_arr, target_names = ['mild', 'moderate', \"none\", 'very_mild']))"
      ]
    },
    {
      "cell_type": "markdown",
      "metadata": {
        "id": "9mn2qZxwLrfv"
      },
      "source": [
        "## 3.2 - Run Initial Convolutional Neural Network (CNN) Model\n",
        "\n",
        "This is an initial convolutional neural network with very minimal minimal layers and additions."
      ]
    },
    {
      "cell_type": "code",
      "execution_count": null,
      "metadata": {
        "id": "99kzl7gWIyhG"
      },
      "outputs": [],
      "source": [
        "# Note:  This initial CNN is largely based on the models learned in the\n",
        "#  CNN modeling lesson.\n",
        "\n",
        "# Instantiate the sequential model\n",
        "model = Sequential()\n",
        "\n",
        "# Input later is needed for the model summary\n",
        "model.add(layers.Input(shape=(208, 176, 3)))\n",
        "\n",
        "# Rescaling layer - which basically divides everything by 255 to get\n",
        "#  the values between 0 and 1\n",
        "model.add(layers.Rescaling(1./255)) \n",
        "\n",
        "# Convolutional and pooling layer\n",
        "model.add(Conv2D(64, (3,3), activation = 'relu')) # 'kernel' and 'filter' are synonymous\n",
        "model.add(MaxPooling2D(pool_size=(2,2)))\n",
        "\n",
        "# Convolutional and pooling layer\n",
        "model.add(Conv2D(64, (3,3), activation = 'relu')) # 'kernel' and 'filter' are synonymous\n",
        "model.add(MaxPooling2D(pool_size=(2,2)))\n",
        "\n",
        "# The above layers need to be flattened to a single dimension to be fed into\n",
        "#  the dense layers below.\n",
        "model.add(Flatten())\n",
        "\n",
        "# First dense layer\n",
        "model.add(Dense(64, activation='relu'))\n",
        "\n",
        "# Output\n",
        "model.add(Dense(4, activation = 'softmax'))\n",
        "\n",
        "# Compile it\n",
        "model.compile(loss = 'categorical_crossentropy', optimizer = 'adam', metrics = ['acc'])\n",
        "\n",
        "# Fit it\n",
        "res_model = model.fit(train_ds,\n",
        "               epochs = 10,\n",
        "               batch_size = 64,\n",
        "               validation_data = val_ds,\n",
        "               verbose = 0)"
      ]
    },
    {
      "cell_type": "code",
      "source": [
        "# Plot results\n",
        "results_plotter(model, res_model, fig_name = 'Initial CNN Model', report = True)"
      ],
      "metadata": {
        "colab": {
          "base_uri": "https://localhost:8080/",
          "height": 816
        },
        "id": "UpBFZM5NepIA",
        "outputId": "59d006c3-47b3-4c0c-8aef-1ca3a526c613"
      },
      "execution_count": null,
      "outputs": [
        {
          "output_type": "stream",
          "name": "stdout",
          "text": [
            "Final Model Accuracy on Training Data:  1.0\n",
            "Final Model Accuracy on Validation Data:  0.9794921875\n",
            "Best Model Accuracy on Training Data:  1.0\n",
            "Best Model Accuracy on Validation Data:  0.9794921875\n",
            "(1279,)\n",
            "(1279,)\n",
            "Model Accuracy on Test Data: 0.5731039874902267 \n",
            "\n"
          ]
        },
        {
          "output_type": "display_data",
          "data": {
            "text/plain": [
              "<Figure size 640x480 with 2 Axes>"
            ],
            "image/png": "[encoded data removed]"
          },
          "metadata": {}
        },
        {
          "output_type": "stream",
          "name": "stdout",
          "text": [
            "              precision    recall  f1-score   support\n",
            "\n",
            "        mild       0.57      0.34      0.42       179\n",
            "    moderate       1.00      0.17      0.29        12\n",
            "        none       0.75      0.47      0.58       640\n",
            "   very_mild       0.48      0.83      0.61       448\n",
            "\n",
            "    accuracy                           0.57      1279\n",
            "   macro avg       0.70      0.45      0.47      1279\n",
            "weighted avg       0.63      0.57      0.56      1279\n",
            "\n"
          ]
        }
      ]
    },
    {
      "cell_type": "markdown",
      "source": [
        "### Inital CNN Model OBSERVATIONS:\n",
        "* The initial model has an accuracy of approcimately 57%\n",
        "* The recall is highest for the Very Mild Dementia Class at 83%, and all other recall values are below 50%.  The class with the smallest number of samples has the lowest recall"
      ],
      "metadata": {
        "id": "dOx5VFureyRI"
      }
    },
    {
      "cell_type": "markdown",
      "metadata": {
        "id": "H-qEV-MB1cST"
      },
      "source": [
        "# 3.3 Optimized CNN\n",
        "The following model builds on the previous convolutional neural network model.\n",
        "\n",
        "As stated previously, the optimization steps are not shown, as the tuning of this model was done by trial and error and showing the results of all such trials is not feasible.  The end of this section will note which changes to parameter values appear to have had what effect on the model.  "
      ]
    },
    {
      "cell_type": "code",
      "source": [
        "# Instantiate the sequential model_a\n",
        "model_a = Sequential()\n",
        "\n",
        "# Early stopping\n",
        "early_stopping = EarlyStopping(patience=10)\n",
        "\n",
        "# Input layer and Rescaling\n",
        "model_a.add(layers.Input(shape=(208, 176, 3)))\n",
        "model_a.add(layers.Rescaling(1./255)) \n",
        "\n",
        "# Convolutional and pooling layer - 1\n",
        "model_a.add(Conv2D(64, (3,3),\n",
        "                 padding='same', \n",
        "                 activation = 'relu')) \n",
        "model_a.add(MaxPooling2D(pool_size=(2,2)))\n",
        "\n",
        "# Batch Normalization layer\n",
        "model_a.add(BatchNormalization())\n",
        "\n",
        "# Convolutional and pooling layer\n",
        "model_a.add(Conv2D(64, (3,3), \n",
        "                 padding='same',\n",
        "                 activation = 'relu')) \n",
        "model_a.add(MaxPooling2D(pool_size=(2,2)))\n",
        "model_a.add(BatchNormalization())\n",
        "\n",
        "# Convolutional and pooling layer\n",
        "model_a.add(Conv2D(64, (3,3), padding='same', activation = 'relu')) \n",
        "model_a.add(MaxPooling2D(pool_size=(2,2)))\n",
        "model_a.add(BatchNormalization())\n",
        "\n",
        "# Convlutional and pooling layers 4 - 7\n",
        "model_a.add(Conv2D(64, (3,3), padding='same', activation = 'relu')) \n",
        "model_a.add(MaxPooling2D(pool_size=(2,2)))\n",
        "\n",
        "model_a.add(Conv2D(64, (3,3), padding='same', activation = 'relu')) \n",
        "model_a.add(MaxPooling2D(pool_size=(2,2)))\n",
        "\n",
        "model_a.add(Conv2D(64, (3,3), padding='same', activation = 'relu')) \n",
        "model_a.add(MaxPooling2D(pool_size=(2,2)))\n",
        "\n",
        "model_a.add(Conv2D(64, (3,3), padding='same', activation = 'relu')) \n",
        "model_a.add(MaxPooling2D(pool_size=(2,2)))\n",
        "\n",
        "# Flatten layer\n",
        "model_a.add(Flatten())\n",
        "\n",
        "# Fully connected layer\n",
        "model_a.add(Dense(64, activation='relu'))\n",
        "\n",
        "# Batch normalization before output layer\n",
        "model_a.add(BatchNormalization())\n",
        "\n",
        "# Output layer\n",
        "model_a.add(Dense(4, activation = 'softmax'))\n",
        "\n",
        "# Compile model_a\n",
        "model_a.compile(loss = 'categorical_crossentropy', optimizer = 'adam', metrics = ['acc'])\n",
        "\n",
        "# Fit model_a\n",
        "res_model_a = model_a.fit(train_ds,\n",
        "               epochs = 20,\n",
        "               batch_size = 64,\n",
        "               validation_data = val_ds,\n",
        "               verbose = 1,\n",
        "               callbacks=[early_stopping])"
      ],
      "metadata": {
        "colab": {
          "base_uri": "https://localhost:8080/"
        },
        "id": "cCg-4dQ99GLV",
        "outputId": "bbccfa32-f0f3-4dfe-c75a-2181f46deedf"
      },
      "execution_count": null,
      "outputs": [
        {
          "output_type": "stream",
          "name": "stdout",
          "text": [
            "Epoch 1/20\n",
            "129/129 [==============================] - 16s 66ms/step - loss: 1.0379 - acc: 0.5719 - val_loss: 1.2595 - val_acc: 0.5225\n",
            "Epoch 2/20\n",
            "129/129 [==============================] - 9s 72ms/step - loss: 0.6871 - acc: 0.7139 - val_loss: 1.9494 - val_acc: 0.3516\n",
            "Epoch 3/20\n",
            "129/129 [==============================] - 10s 74ms/step - loss: 0.4749 - acc: 0.8165 - val_loss: 5.4187 - val_acc: 0.5195\n",
            "Epoch 4/20\n",
            "129/129 [==============================] - 9s 67ms/step - loss: 0.2735 - acc: 0.9036 - val_loss: 4.0154 - val_acc: 0.7656\n",
            "Epoch 5/20\n",
            "129/129 [==============================] - 9s 65ms/step - loss: 0.1228 - acc: 0.9658 - val_loss: 4.4000 - val_acc: 0.3779\n",
            "Epoch 6/20\n",
            "129/129 [==============================] - 9s 66ms/step - loss: 0.0680 - acc: 0.9829 - val_loss: 4.8937 - val_acc: 0.4307\n",
            "Epoch 7/20\n",
            "129/129 [==============================] - 9s 67ms/step - loss: 0.0753 - acc: 0.9788 - val_loss: 2.0599 - val_acc: 0.5010\n",
            "Epoch 8/20\n",
            "129/129 [==============================] - 9s 68ms/step - loss: 0.1120 - acc: 0.9570 - val_loss: 32.3037 - val_acc: 0.1191\n",
            "Epoch 9/20\n",
            "129/129 [==============================] - 8s 60ms/step - loss: 0.0780 - acc: 0.9763 - val_loss: 0.4997 - val_acc: 0.8174\n",
            "Epoch 10/20\n",
            "129/129 [==============================] - 8s 64ms/step - loss: 0.0337 - acc: 0.9927 - val_loss: 0.4477 - val_acc: 0.8438\n",
            "Epoch 11/20\n",
            "129/129 [==============================] - 8s 65ms/step - loss: 0.0324 - acc: 0.9915 - val_loss: 0.4770 - val_acc: 0.8369\n",
            "Epoch 12/20\n",
            "129/129 [==============================] - 8s 61ms/step - loss: 0.0131 - acc: 0.9988 - val_loss: 0.1244 - val_acc: 0.9648\n",
            "Epoch 13/20\n",
            "129/129 [==============================] - 8s 63ms/step - loss: 0.0113 - acc: 0.9978 - val_loss: 0.1804 - val_acc: 0.9346\n",
            "Epoch 14/20\n",
            "129/129 [==============================] - 8s 64ms/step - loss: 0.0295 - acc: 0.9924 - val_loss: 4.2147 - val_acc: 0.4102\n",
            "Epoch 15/20\n",
            "129/129 [==============================] - 9s 66ms/step - loss: 0.0726 - acc: 0.9753 - val_loss: 5.5523 - val_acc: 0.7598\n",
            "Epoch 16/20\n",
            "129/129 [==============================] - 8s 62ms/step - loss: 0.1151 - acc: 0.9580 - val_loss: 9.3220 - val_acc: 0.3721\n",
            "Epoch 17/20\n",
            "129/129 [==============================] - 8s 64ms/step - loss: 0.0542 - acc: 0.9844 - val_loss: 0.3618 - val_acc: 0.8867\n",
            "Epoch 18/20\n",
            "129/129 [==============================] - 8s 64ms/step - loss: 0.0144 - acc: 0.9978 - val_loss: 6.4265 - val_acc: 0.2109\n",
            "Epoch 19/20\n",
            "129/129 [==============================] - 8s 61ms/step - loss: 0.0095 - acc: 0.9993 - val_loss: 1.4798 - val_acc: 0.4736\n",
            "Epoch 20/20\n",
            "129/129 [==============================] - 8s 64ms/step - loss: 0.0043 - acc: 0.9998 - val_loss: 0.1046 - val_acc: 0.9688\n"
          ]
        }
      ]
    },
    {
      "cell_type": "code",
      "source": [
        "# Plot results\n",
        "results_plotter(model_a, res_model_a, fig_name = 'Optimized CNN Model', report = True)"
      ],
      "metadata": {
        "colab": {
          "base_uri": "https://localhost:8080/",
          "height": 816
        },
        "id": "Nz8jPBTRb2CK",
        "outputId": "809329dd-c2c2-45f8-ae90-94bd69767ea8"
      },
      "execution_count": null,
      "outputs": [
        {
          "output_type": "stream",
          "name": "stdout",
          "text": [
            "Final Model Accuracy on Training Data:  0.9997559189796448\n",
            "Final Model Accuracy on Validation Data:  0.96875\n",
            "Best Model Accuracy on Training Data:  0.9997559189796448\n",
            "Best Model Accuracy on Validation Data:  0.96875\n",
            "(1279,)\n",
            "(1279,)\n",
            "Model Accuracy on Test Data: 0.5269741985926505 \n",
            "\n"
          ]
        },
        {
          "output_type": "display_data",
          "data": {
            "text/plain": [
              "<Figure size 640x480 with 2 Axes>"
            ],
            "image/png": "[encoded data removed]"
          },
          "metadata": {}
        },
        {
          "output_type": "stream",
          "name": "stdout",
          "text": [
            "              precision    recall  f1-score   support\n",
            "\n",
            "        mild       0.50      0.64      0.57       179\n",
            "    moderate       0.03      0.83      0.05        12\n",
            "        none       0.83      0.65      0.73       640\n",
            "   very_mild       0.85      0.29      0.43       448\n",
            "\n",
            "    accuracy                           0.53      1279\n",
            "   macro avg       0.55      0.61      0.45      1279\n",
            "weighted avg       0.79      0.53      0.60      1279\n",
            "\n"
          ]
        }
      ]
    },
    {
      "cell_type": "markdown",
      "source": [
        "### Optimized CNN OBSERVATIONS\n",
        "\n",
        "#### Modeling\n",
        "After running multiple iterations of the above model, the following observations have been made:\n",
        "* Dropout layers (running between 0.25 and 0.5 probability) significantly reduce model performance, particularly in the convolutional layers\n",
        "* Adding convolutional layers significantly improves model performance\n",
        "* Using batch normalization layers after each convolutional layer has been found to have a drastically negative impact on model performance\n",
        "* Max Pooling layers are reuqired when running many convolutional layers to prevent the notebook from crashing\n",
        "\n",
        "#### Metrics:\n",
        "* The optimized model has decreased overall performance with an accuracy of 53%\n",
        "* Based on the recall values and confusion matrix, this model has more imbalanced performance"
      ],
      "metadata": {
        "id": "6QHb1pmlMhjo"
      }
    },
    {
      "cell_type": "markdown",
      "source": [
        "## 3.4 - Optimized CNN Model with Class Weights\n",
        "This model will replicate the previous model in all aspects except that in the fit stage, class weights will be provided.  This wil attempt to even out the performance on classes."
      ],
      "metadata": {
        "id": "vsnv2cDP4NdI"
      }
    },
    {
      "cell_type": "code",
      "source": [
        "# Create a function which will determine the class weights based on the number\n",
        "#  of samples in each class.\n",
        "\n",
        "# https://towardsdatascience.com/dealing-with-imbalanced-data-in-tensorflow-class-weights-60f876911f99\n",
        "from sklearn.utils.class_weight import compute_class_weight\n",
        "\n",
        "def generate_class_weights(class_series):\n",
        "  y = np.concatenate([y for x, y in class_series], axis=0)\n",
        "  class_series = np.argmax(y, axis=1)\n",
        "  class_labels = np.unique(class_series)\n",
        "  class_weights = compute_class_weight(class_weight='balanced', classes=class_labels, y=class_series)\n",
        "  return dict(zip(class_labels, class_weights))\n",
        "\n",
        "class_weights = generate_class_weights(train_ds)\n",
        "n_classes = len(class_weights)"
      ],
      "metadata": {
        "id": "WY1h2ZeMcGel"
      },
      "execution_count": null,
      "outputs": []
    },
    {
      "cell_type": "code",
      "source": [
        "# Instantiate the sequential model_b\n",
        "model_b = Sequential()\n",
        "\n",
        "# Early stopping\n",
        "early_stopping = EarlyStopping(patience=10)\n",
        "\n",
        "# Input layer and Rescaling\n",
        "model_b.add(layers.Input(shape=(208, 176, 3)))\n",
        "model_b.add(layers.Rescaling(1./255)) \n",
        "\n",
        "# Convolutional and pooling layer - 1\n",
        "model_b.add(Conv2D(64, (3,3), #was 128\n",
        "                 padding='same', \n",
        "                 activation = 'relu')) \n",
        "model_b.add(MaxPooling2D(pool_size=(2,2)))\n",
        "\n",
        "# Batch Normalization layer\n",
        "model_b.add(BatchNormalization())\n",
        "\n",
        "# Convolutional and pooling layer - 2\n",
        "model_b.add(Conv2D(64, (3,3), \n",
        "                 padding='same', #was 256\n",
        "                 activation = 'relu')) \n",
        "model_b.add(MaxPooling2D(pool_size=(2,2)))\n",
        "model_b.add(BatchNormalization())\n",
        "\n",
        "# Convolutional and pooling layer\n",
        "model_b.add(Conv2D(64, (3,3), padding='same', activation = 'relu')) \n",
        "model_b.add(MaxPooling2D(pool_size=(2,2)))\n",
        "model_b.add(BatchNormalization())\n",
        "\n",
        "# Convolutional and pooling layers 4-7\n",
        "model_b.add(Conv2D(64, (3,3), padding='same', activation = 'relu')) \n",
        "model_b.add(MaxPooling2D(pool_size=(2,2)))\n",
        "\n",
        "model_b.add(Conv2D(64, (3,3), padding='same', activation = 'relu')) \n",
        "model_b.add(MaxPooling2D(pool_size=(2,2)))\n",
        "\n",
        "model_b.add(Conv2D(64, (3,3), padding='same', activation = 'relu')) \n",
        "model_b.add(MaxPooling2D(pool_size=(2,2)))\n",
        "\n",
        "model_b.add(Conv2D(64, (3,3), padding='same', activation = 'relu')) \n",
        "model_b.add(MaxPooling2D(pool_size=(2,2)))\n",
        "\n",
        "# Flatten layer\n",
        "model_b.add(Flatten())\n",
        "\n",
        "# Fully connected layer\n",
        "model_b.add(Dense(64, activation='relu'))\n",
        "\n",
        "# Batch Normalization layer\n",
        "model_b.add(BatchNormalization())\n",
        "\n",
        "# Output layer\n",
        "model_b.add(Dense(4, activation = 'softmax'))\n",
        "\n",
        "# Compile model_b\n",
        "model_b.compile(loss = 'categorical_crossentropy', optimizer = 'adam', metrics = ['acc'])\n",
        "\n",
        "# Fit model_b\n",
        "res_model_b = model_b.fit(train_ds,\n",
        "               epochs = 20,\n",
        "               class_weight = class_weights,\n",
        "               batch_size = 64,\n",
        "               validation_data = val_ds,\n",
        "               verbose = 1,\n",
        "               callbacks=[early_stopping])"
      ],
      "metadata": {
        "colab": {
          "base_uri": "https://localhost:8080/"
        },
        "id": "xA7LVIoGbyUH",
        "outputId": "1fcede6d-6783-49d5-fc13-bc3dd4d538e5"
      },
      "execution_count": null,
      "outputs": [
        {
          "output_type": "stream",
          "name": "stdout",
          "text": [
            "Epoch 1/20\n",
            "129/129 [==============================] - 14s 67ms/step - loss: 1.1261 - acc: 0.4403 - val_loss: 2.4727 - val_acc: 0.0879\n",
            "Epoch 2/20\n",
            "129/129 [==============================] - 8s 62ms/step - loss: 0.7648 - acc: 0.5870 - val_loss: 4.1301 - val_acc: 0.5195\n",
            "Epoch 3/20\n",
            "129/129 [==============================] - 8s 63ms/step - loss: 0.4873 - acc: 0.7125 - val_loss: 5.0072 - val_acc: 0.0469\n",
            "Epoch 4/20\n",
            "129/129 [==============================] - 8s 65ms/step - loss: 0.3476 - acc: 0.8116 - val_loss: 4.7855 - val_acc: 0.5215\n",
            "Epoch 5/20\n",
            "129/129 [==============================] - 8s 61ms/step - loss: 0.1930 - acc: 0.9011 - val_loss: 3.0511 - val_acc: 0.3740\n",
            "Epoch 6/20\n",
            "129/129 [==============================] - 8s 63ms/step - loss: 0.1162 - acc: 0.9436 - val_loss: 5.2502 - val_acc: 0.0791\n",
            "Epoch 7/20\n",
            "129/129 [==============================] - 8s 64ms/step - loss: 0.0578 - acc: 0.9783 - val_loss: 3.2816 - val_acc: 0.3584\n",
            "Epoch 8/20\n",
            "129/129 [==============================] - 8s 65ms/step - loss: 0.0289 - acc: 0.9905 - val_loss: 1.0296 - val_acc: 0.7080\n",
            "Epoch 9/20\n",
            "129/129 [==============================] - 9s 66ms/step - loss: 0.0167 - acc: 0.9966 - val_loss: 0.2537 - val_acc: 0.9189\n",
            "Epoch 10/20\n",
            "129/129 [==============================] - 8s 62ms/step - loss: 0.0289 - acc: 0.9883 - val_loss: 12.0533 - val_acc: 0.4531\n",
            "Epoch 11/20\n",
            "129/129 [==============================] - 8s 64ms/step - loss: 0.2410 - acc: 0.8948 - val_loss: 17.4089 - val_acc: 0.3145\n",
            "Epoch 12/20\n",
            "129/129 [==============================] - 8s 64ms/step - loss: 0.6463 - acc: 0.6773 - val_loss: 1.1527 - val_acc: 0.5693\n",
            "Epoch 13/20\n",
            "129/129 [==============================] - 8s 62ms/step - loss: 0.2030 - acc: 0.8916 - val_loss: 7.1698 - val_acc: 0.1211\n",
            "Epoch 14/20\n",
            "129/129 [==============================] - 8s 61ms/step - loss: 0.0613 - acc: 0.9775 - val_loss: 3.1402 - val_acc: 0.2441\n",
            "Epoch 15/20\n",
            "129/129 [==============================] - 8s 63ms/step - loss: 0.0239 - acc: 0.9954 - val_loss: 0.4298 - val_acc: 0.8242\n",
            "Epoch 16/20\n",
            "129/129 [==============================] - 8s 65ms/step - loss: 0.0137 - acc: 0.9980 - val_loss: 0.0929 - val_acc: 0.9707\n",
            "Epoch 17/20\n",
            "129/129 [==============================] - 9s 71ms/step - loss: 0.0113 - acc: 0.9980 - val_loss: 3.3617 - val_acc: 0.6279\n",
            "Epoch 18/20\n",
            "129/129 [==============================] - 9s 67ms/step - loss: 0.0093 - acc: 0.9980 - val_loss: 0.1186 - val_acc: 0.9570\n",
            "Epoch 19/20\n",
            "129/129 [==============================] - 9s 69ms/step - loss: 0.0052 - acc: 0.9998 - val_loss: 0.0822 - val_acc: 0.9746\n",
            "Epoch 20/20\n",
            "129/129 [==============================] - 9s 66ms/step - loss: 0.0038 - acc: 0.9998 - val_loss: 0.0440 - val_acc: 0.9883\n"
          ]
        }
      ]
    },
    {
      "cell_type": "code",
      "source": [
        "# Plot results\n",
        "results_plotter(model_b, res_model_b, fig_name = 'Optimized CNN Model Weighted Classes', report = True)"
      ],
      "metadata": {
        "colab": {
          "base_uri": "https://localhost:8080/",
          "height": 816
        },
        "id": "SILxnJK1dE2J",
        "outputId": "8cc39940-bf09-4031-a3ac-6d0bacf8188b"
      },
      "execution_count": null,
      "outputs": [
        {
          "output_type": "stream",
          "name": "stdout",
          "text": [
            "Final Model Accuracy on Training Data:  0.9997559189796448\n",
            "Final Model Accuracy on Validation Data:  0.98828125\n",
            "Best Model Accuracy on Training Data:  0.9997559189796448\n",
            "Best Model Accuracy on Validation Data:  0.98828125\n",
            "(1279,)\n",
            "(1279,)\n",
            "Model Accuracy on Test Data: 0.6724003127443315 \n",
            "\n"
          ]
        },
        {
          "output_type": "display_data",
          "data": {
            "text/plain": [
              "<Figure size 640x480 with 2 Axes>"
            ],
            "image/png": "[encoded data removed]"
          },
          "metadata": {}
        },
        {
          "output_type": "stream",
          "name": "stdout",
          "text": [
            "              precision    recall  f1-score   support\n",
            "\n",
            "        mild       0.69      0.41      0.52       179\n",
            "    moderate       1.00      0.33      0.50        12\n",
            "        none       0.69      0.82      0.75       640\n",
            "   very_mild       0.63      0.58      0.60       448\n",
            "\n",
            "    accuracy                           0.67      1279\n",
            "   macro avg       0.75      0.54      0.59      1279\n",
            "weighted avg       0.67      0.67      0.66      1279\n",
            "\n"
          ]
        }
      ]
    },
    {
      "cell_type": "markdown",
      "source": [
        "#### OBSERVATIONS:\n",
        "Though the model optiized with class weights has an improved accuracy comapred to the previous model at 67%.  Generally speaking, the recall valus have improved in all classes"
      ],
      "metadata": {
        "id": "i5Du1jrk3wyy"
      }
    },
    {
      "cell_type": "markdown",
      "metadata": {
        "id": "JH14R_g71kj6"
      },
      "source": [
        "## 3.5 - Optimized CNN Model with Image Augmentation\n",
        "It was previously observed that the images from the test dataset appear different than those of the training dataset.  WIth that, introducing variability in the images use to train the model may affect the performance. This model will use keras preprocessing techniques to alter images in the training set."
      ]
    },
    {
      "cell_type": "code",
      "execution_count": null,
      "metadata": {
        "id": "xNhXFsy8w8Jh",
        "colab": {
          "base_uri": "https://localhost:8080/"
        },
        "outputId": "e0999ce1-9c7f-4e89-ad26-698dc9289cb4"
      },
      "outputs": [
        {
          "output_type": "stream",
          "name": "stdout",
          "text": [
            "Epoch 1/20\n",
            "129/129 [==============================] - 14s 69ms/step - loss: 1.1389 - acc: 0.4955 - val_loss: 1.1432 - val_acc: 0.5195\n",
            "Epoch 2/20\n",
            "129/129 [==============================] - 9s 69ms/step - loss: 0.9496 - acc: 0.5504 - val_loss: 1.3212 - val_acc: 0.5195\n",
            "Epoch 3/20\n",
            "129/129 [==============================] - 9s 65ms/step - loss: 0.9204 - acc: 0.5546 - val_loss: 1.8952 - val_acc: 0.5195\n",
            "Epoch 4/20\n",
            "129/129 [==============================] - 9s 67ms/step - loss: 0.9241 - acc: 0.5524 - val_loss: 1.5626 - val_acc: 0.5195\n",
            "Epoch 5/20\n",
            "129/129 [==============================] - 9s 67ms/step - loss: 0.9124 - acc: 0.5563 - val_loss: 1.1254 - val_acc: 0.5205\n",
            "Epoch 6/20\n",
            "129/129 [==============================] - 9s 69ms/step - loss: 0.9057 - acc: 0.5543 - val_loss: 0.8898 - val_acc: 0.5430\n",
            "Epoch 7/20\n",
            "129/129 [==============================] - 9s 68ms/step - loss: 0.9103 - acc: 0.5460 - val_loss: 0.9528 - val_acc: 0.5488\n",
            "Epoch 8/20\n",
            "129/129 [==============================] - 9s 67ms/step - loss: 0.9077 - acc: 0.5575 - val_loss: 0.9351 - val_acc: 0.5654\n",
            "Epoch 9/20\n",
            "129/129 [==============================] - 8s 65ms/step - loss: 0.8960 - acc: 0.5582 - val_loss: 1.7588 - val_acc: 0.4121\n",
            "Epoch 10/20\n",
            "129/129 [==============================] - 9s 68ms/step - loss: 0.8964 - acc: 0.5592 - val_loss: 0.9849 - val_acc: 0.5684\n",
            "Epoch 11/20\n",
            "129/129 [==============================] - 9s 65ms/step - loss: 0.8921 - acc: 0.5602 - val_loss: 3.1164 - val_acc: 0.5078\n",
            "Epoch 12/20\n",
            "129/129 [==============================] - 9s 67ms/step - loss: 0.8895 - acc: 0.5631 - val_loss: 0.9113 - val_acc: 0.5205\n",
            "Epoch 13/20\n",
            "129/129 [==============================] - 9s 67ms/step - loss: 0.8857 - acc: 0.5597 - val_loss: 0.9942 - val_acc: 0.5508\n",
            "Epoch 14/20\n",
            "129/129 [==============================] - 8s 64ms/step - loss: 0.8879 - acc: 0.5594 - val_loss: 3.9101 - val_acc: 0.4971\n",
            "Epoch 15/20\n",
            "129/129 [==============================] - 9s 66ms/step - loss: 0.8802 - acc: 0.5711 - val_loss: 1.0656 - val_acc: 0.5430\n",
            "Epoch 16/20\n",
            "129/129 [==============================] - 9s 67ms/step - loss: 0.8866 - acc: 0.5670 - val_loss: 0.9876 - val_acc: 0.5596\n"
          ]
        }
      ],
      "source": [
        "# Instantiate model with iomage augmentation\n",
        "#  Source helping wiht this:\n",
        "#    https://keras.io/api/layers/preprocessing_layers/image_augmentation/\n",
        "#    https://keras.io/api/layers/preprocessing_layers/image_augmentation/random_flip/\n",
        "#    https://keras.io/api/layers/preprocessing_layers/image_augmentation/random_rotation/\n",
        "#    https://keras.io/api/layers/preprocessing_layers/image_augmentation/random_zoom/\n",
        "#    https://machinelearningmastery.com/image-augmentation-with-keras-preprocessing-layers-and-tf-image/\n",
        "\n",
        "model_c = Sequential([\n",
        "    preprocessing.RandomRotation(0.4),\n",
        "    preprocessing.RandomZoom(0.4),\n",
        "    preprocessing.RandomFlip(mode='horizontal'),\n",
        "])\n",
        "\n",
        "# Early stopping\n",
        "early_stopping = EarlyStopping(patience=10)\n",
        "\n",
        "# Input layer\n",
        "model_c.add(layers.Input(shape=(208, 176, 3)))\n",
        "model_c.add(layers.Rescaling(1./255)) \n",
        "\n",
        "# Convolutional and pooling layer - 1\n",
        "model_c.add(Conv2D(64, (3,3),\n",
        "                 padding='same', \n",
        "                 activation = 'relu')) \n",
        "model_c.add(MaxPooling2D(pool_size=(2,2)))\n",
        "\n",
        "# Batch Normalization layer\n",
        "model_c.add(BatchNormalization())\n",
        "\n",
        "# Convolutional and pooling layer\n",
        "model_c.add(Conv2D(64, (3,3), \n",
        "                 padding='same',\n",
        "                 activation = 'relu')) \n",
        "model_c.add(MaxPooling2D(pool_size=(2,2)))\n",
        "model_c.add(BatchNormalization())\n",
        "\n",
        "# Convolutional and pooling layer\n",
        "model_c.add(Conv2D(64, (3,3), padding='same', activation = 'relu')) \n",
        "model_c.add(MaxPooling2D(pool_size=(2,2)))\n",
        "model_c.add(BatchNormalization())\n",
        "\n",
        "# Convlutional and pooling layers 4 - 7\n",
        "model_c.add(Conv2D(64, (3,3), padding='same', activation = 'relu')) \n",
        "model_c.add(MaxPooling2D(pool_size=(2,2)))\n",
        "\n",
        "model_c.add(Conv2D(64, (3,3), padding='same', activation = 'relu')) \n",
        "model_c.add(MaxPooling2D(pool_size=(2,2)))\n",
        "\n",
        "model_c.add(Conv2D(64, (3,3), padding='same', activation = 'relu')) \n",
        "model_c.add(MaxPooling2D(pool_size=(2,2)))\n",
        "\n",
        "model_c.add(Conv2D(64, (3,3), padding='same', activation = 'relu')) \n",
        "model_c.add(MaxPooling2D(pool_size=(2,2)))\n",
        "\n",
        "# Flatten layer\n",
        "model_c.add(Flatten())\n",
        "\n",
        "# Fully connected layer\n",
        "model_c.add(Dense(64, activation='relu'))\n",
        "\n",
        "# Batch normalization before output layer\n",
        "model_c.add(BatchNormalization())\n",
        "\n",
        "# Output layer\n",
        "model_c.add(Dense(4, activation = 'softmax'))\n",
        "\n",
        "# Compile model_c\n",
        "model_c.compile(loss = 'categorical_crossentropy', optimizer = 'adam', metrics = ['acc'])\n",
        "\n",
        "# Fit model_c\n",
        "res_model_c = model_c.fit(train_ds,\n",
        "               epochs = 20,\n",
        "               batch_size = 64,\n",
        "               validation_data = val_ds,\n",
        "               verbose = 1,\n",
        "               callbacks=[early_stopping])"
      ]
    },
    {
      "cell_type": "code",
      "source": [
        "results_plotter(model_c, res_model_c, fig_name = 'Optimized CNN Model Image Augmentation', report = True)"
      ],
      "metadata": {
        "colab": {
          "base_uri": "https://localhost:8080/",
          "height": 940
        },
        "id": "eqLC7LmHjvOn",
        "outputId": "1941040e-79f7-4b44-edc8-b3b424d9ada2"
      },
      "execution_count": null,
      "outputs": [
        {
          "output_type": "stream",
          "name": "stdout",
          "text": [
            "Final Model Accuracy on Training Data:  0.5670002698898315\n",
            "Final Model Accuracy on Validation Data:  0.5595703125\n",
            "Best Model Accuracy on Training Data:  0.5711496472358704\n",
            "Best Model Accuracy on Validation Data:  0.568359375\n",
            "(1279,)\n",
            "(1279,)\n",
            "Model Accuracy on Test Data: 0.5222830336200156 \n",
            "\n"
          ]
        },
        {
          "output_type": "display_data",
          "data": {
            "text/plain": [
              "<Figure size 640x480 with 2 Axes>"
            ],
            "image/png": "[encoded data removed]"
          },
          "metadata": {}
        },
        {
          "output_type": "stream",
          "name": "stdout",
          "text": [
            "              precision    recall  f1-score   support\n",
            "\n",
            "        mild       1.00      0.03      0.05       179\n",
            "    moderate       0.00      0.00      0.00        12\n",
            "        none       0.54      0.92      0.68       640\n",
            "   very_mild       0.39      0.17      0.24       448\n",
            "\n",
            "    accuracy                           0.52      1279\n",
            "   macro avg       0.48      0.28      0.24      1279\n",
            "weighted avg       0.55      0.52      0.43      1279\n",
            "\n"
          ]
        },
        {
          "output_type": "stream",
          "name": "stderr",
          "text": [
            "/usr/local/lib/python3.10/dist-packages/sklearn/metrics/_classification.py:1344: UndefinedMetricWarning: Precision and F-score are ill-defined and being set to 0.0 in labels with no predicted samples. Use `zero_division` parameter to control this behavior.\n",
            "  _warn_prf(average, modifier, msg_start, len(result))\n",
            "/usr/local/lib/python3.10/dist-packages/sklearn/metrics/_classification.py:1344: UndefinedMetricWarning: Precision and F-score are ill-defined and being set to 0.0 in labels with no predicted samples. Use `zero_division` parameter to control this behavior.\n",
            "  _warn_prf(average, modifier, msg_start, len(result))\n",
            "/usr/local/lib/python3.10/dist-packages/sklearn/metrics/_classification.py:1344: UndefinedMetricWarning: Precision and F-score are ill-defined and being set to 0.0 in labels with no predicted samples. Use `zero_division` parameter to control this behavior.\n",
            "  _warn_prf(average, modifier, msg_start, len(result))\n"
          ]
        }
      ]
    },
    {
      "cell_type": "markdown",
      "source": [
        "#### OBSERVATIONS:\n",
        "Image augmentation has greatly impacted the model performance bringing it down to an accuracy of 52% which is negligably better than the null model.  This model is predicting that nearly all images are the largest No Dementia class.\n",
        "\n",
        "It can be futher observed from the validation accuracies that this model had a hard time training and converging on a solution."
      ],
      "metadata": {
        "id": "KrF0RhQt4dB-"
      }
    },
    {
      "cell_type": "markdown",
      "metadata": {
        "id": "ptL2mEcNxtZb"
      },
      "source": [
        "## 3.6 - Optimized CNN Model with L2 Regularization\n",
        "Regularization is a technique that is generally employed when a model is over-fitting to make the performance more generalized.  L2 regularization is implemented in the model layers below."
      ]
    },
    {
      "cell_type": "code",
      "source": [
        "# Instantiate the sequential model_d\n",
        "model_d = Sequential()\n",
        "\n",
        "# Early stopping\n",
        "early_stopping = EarlyStopping(patience=10)\n",
        "\n",
        "# Input layer and Rescaling\n",
        "model_d.add(layers.Input(shape=(208, 176, 3)))\n",
        "model_d.add(layers.Rescaling(1./255)) \n",
        "\n",
        "# Convolutional and pooling layer - 1\n",
        "model_d.add(Conv2D(64, (3,3),\n",
        "                 padding='same', \n",
        "                 activation = 'relu',\n",
        "                 kernel_regularizer=regularizers.l2(0.01))) \n",
        "model_d.add(MaxPooling2D(pool_size=(2,2)))\n",
        "\n",
        "# Batch Normalization layer\n",
        "model_d.add(BatchNormalization())\n",
        "\n",
        "# Convolutional and pooling layer\n",
        "model_d.add(Conv2D(64, (3,3), \n",
        "                 padding='same',\n",
        "                 activation = 'relu',\n",
        "                 kernel_regularizer=regularizers.l2(0.01))) \n",
        "model_d.add(MaxPooling2D(pool_size=(2,2)))\n",
        "model_d.add(BatchNormalization())\n",
        "\n",
        "# Convolutional and pooling layer\n",
        "model_d.add(Conv2D(64, (3,3), padding='same', activation = 'relu', kernel_regularizer=regularizers.l2(0.01))) \n",
        "model_d.add(MaxPooling2D(pool_size=(2,2)))\n",
        "model_d.add(BatchNormalization())\n",
        "\n",
        "# Convlutional and pooling layers 4 - 7\n",
        "model_d.add(Conv2D(64, (3,3), padding='same', activation = 'relu', kernel_regularizer=regularizers.l2(0.01))) \n",
        "model_d.add(MaxPooling2D(pool_size=(2,2)))\n",
        "\n",
        "model_d.add(Conv2D(64, (3,3), padding='same', activation = 'relu', kernel_regularizer=regularizers.l2(0.01))) \n",
        "model_d.add(MaxPooling2D(pool_size=(2,2)))\n",
        "\n",
        "model_d.add(Conv2D(64, (3,3), padding='same', activation = 'relu', kernel_regularizer=regularizers.l2(0.01))) \n",
        "model_d.add(MaxPooling2D(pool_size=(2,2)))\n",
        "\n",
        "model_d.add(Conv2D(64, (3,3), padding='same', activation = 'relu', kernel_regularizer=regularizers.l2(0.01))) \n",
        "model_d.add(MaxPooling2D(pool_size=(2,2)))\n",
        "\n",
        "# Flatten layer\n",
        "model_d.add(Flatten())\n",
        "\n",
        "# Fully connected layer\n",
        "model_d.add(Dense(64, activation='relu', kernel_regularizer=regularizers.l2(0.01)))\n",
        "\n",
        "# Batch normalization before output layer\n",
        "model_d.add(BatchNormalization())\n",
        "\n",
        "# Output layer\n",
        "model_d.add(Dense(4, activation = 'softmax'))\n",
        "\n",
        "# Compile model_d\n",
        "model_d.compile(loss = 'categorical_crossentropy', optimizer = 'adam', metrics = ['acc'])\n",
        "\n",
        "# Fit model_d\n",
        "res_model_d = model_d.fit(train_ds,\n",
        "               epochs = 20,\n",
        "               batch_size = 64,\n",
        "               validation_data = val_ds,\n",
        "               verbose = 1,\n",
        "               callbacks=[early_stopping])"
      ],
      "metadata": {
        "colab": {
          "base_uri": "https://localhost:8080/"
        },
        "id": "gLOfc0bGnr8s",
        "outputId": "7c9768b0-ba37-4404-c5f0-d9ca63b9be26"
      },
      "execution_count": null,
      "outputs": [
        {
          "output_type": "stream",
          "name": "stdout",
          "text": [
            "Epoch 1/20\n",
            "129/129 [==============================] - 13s 65ms/step - loss: 4.5887 - acc: 0.5704 - val_loss: 3.8756 - val_acc: 0.5195\n",
            "Epoch 2/20\n",
            "129/129 [==============================] - 8s 65ms/step - loss: 2.9642 - acc: 0.6871 - val_loss: 3.3520 - val_acc: 0.3516\n",
            "Epoch 3/20\n",
            "129/129 [==============================] - 8s 61ms/step - loss: 2.1081 - acc: 0.7764 - val_loss: 2.5199 - val_acc: 0.1914\n",
            "Epoch 4/20\n",
            "129/129 [==============================] - 8s 62ms/step - loss: 1.5057 - acc: 0.8819 - val_loss: 11.4994 - val_acc: 0.0703\n",
            "Epoch 5/20\n",
            "129/129 [==============================] - 8s 64ms/step - loss: 1.2551 - acc: 0.8946 - val_loss: 5.0523 - val_acc: 0.4355\n",
            "Epoch 6/20\n",
            "129/129 [==============================] - 8s 64ms/step - loss: 1.0194 - acc: 0.9292 - val_loss: 1.4675 - val_acc: 0.7324\n",
            "Epoch 7/20\n",
            "129/129 [==============================] - 8s 61ms/step - loss: 0.9536 - acc: 0.9221 - val_loss: 1.9454 - val_acc: 0.5723\n",
            "Epoch 8/20\n",
            "129/129 [==============================] - 8s 63ms/step - loss: 0.7211 - acc: 0.9707 - val_loss: 3.2569 - val_acc: 0.4219\n",
            "Epoch 9/20\n",
            "129/129 [==============================] - 8s 64ms/step - loss: 0.6614 - acc: 0.9583 - val_loss: 5.6214 - val_acc: 0.3887\n",
            "Epoch 10/20\n",
            "129/129 [==============================] - 8s 64ms/step - loss: 0.7098 - acc: 0.9373 - val_loss: 11.6984 - val_acc: 0.3643\n",
            "Epoch 11/20\n",
            "129/129 [==============================] - 9s 68ms/step - loss: 0.6054 - acc: 0.9627 - val_loss: 6.9214 - val_acc: 0.4482\n",
            "Epoch 12/20\n",
            "129/129 [==============================] - 8s 64ms/step - loss: 0.6216 - acc: 0.9436 - val_loss: 2.0123 - val_acc: 0.5098\n",
            "Epoch 13/20\n",
            "129/129 [==============================] - 8s 61ms/step - loss: 0.6117 - acc: 0.9561 - val_loss: 4.7276 - val_acc: 0.3799\n",
            "Epoch 14/20\n",
            "129/129 [==============================] - 8s 61ms/step - loss: 0.5671 - acc: 0.9661 - val_loss: 4.6624 - val_acc: 0.2803\n",
            "Epoch 15/20\n",
            "129/129 [==============================] - 8s 63ms/step - loss: 0.4658 - acc: 0.9795 - val_loss: 8.5309 - val_acc: 0.3535\n",
            "Epoch 16/20\n",
            "129/129 [==============================] - 8s 63ms/step - loss: 0.4764 - acc: 0.9580 - val_loss: 4.1150 - val_acc: 0.3740\n"
          ]
        }
      ]
    },
    {
      "cell_type": "code",
      "execution_count": null,
      "metadata": {
        "id": "ShipKcVLxq0h",
        "colab": {
          "base_uri": "https://localhost:8080/",
          "height": 940
        },
        "outputId": "888f7086-dfc9-4034-c8f3-2c7096e16da9"
      },
      "outputs": [
        {
          "output_type": "stream",
          "name": "stdout",
          "text": [
            "Final Model Accuracy on Training Data:  0.5670002698898315\n",
            "Final Model Accuracy on Validation Data:  0.5595703125\n",
            "Best Model Accuracy on Training Data:  0.5711496472358704\n",
            "Best Model Accuracy on Validation Data:  0.568359375\n",
            "(1279,)\n",
            "(1279,)\n",
            "Model Accuracy on Test Data: 0.5222830336200156 \n",
            "\n"
          ]
        },
        {
          "output_type": "display_data",
          "data": {
            "text/plain": [
              "<Figure size 640x480 with 2 Axes>"
            ],
            "image/png": "[encoded data removed]"
          },
          "metadata": {}
        },
        {
          "output_type": "stream",
          "name": "stdout",
          "text": [
            "              precision    recall  f1-score   support\n",
            "\n",
            "        mild       1.00      0.03      0.05       179\n",
            "    moderate       0.00      0.00      0.00        12\n",
            "        none       0.54      0.92      0.68       640\n",
            "   very_mild       0.39      0.17      0.24       448\n",
            "\n",
            "    accuracy                           0.52      1279\n",
            "   macro avg       0.48      0.28      0.24      1279\n",
            "weighted avg       0.55      0.52      0.43      1279\n",
            "\n"
          ]
        },
        {
          "output_type": "stream",
          "name": "stderr",
          "text": [
            "/usr/local/lib/python3.10/dist-packages/sklearn/metrics/_classification.py:1344: UndefinedMetricWarning: Precision and F-score are ill-defined and being set to 0.0 in labels with no predicted samples. Use `zero_division` parameter to control this behavior.\n",
            "  _warn_prf(average, modifier, msg_start, len(result))\n",
            "/usr/local/lib/python3.10/dist-packages/sklearn/metrics/_classification.py:1344: UndefinedMetricWarning: Precision and F-score are ill-defined and being set to 0.0 in labels with no predicted samples. Use `zero_division` parameter to control this behavior.\n",
            "  _warn_prf(average, modifier, msg_start, len(result))\n",
            "/usr/local/lib/python3.10/dist-packages/sklearn/metrics/_classification.py:1344: UndefinedMetricWarning: Precision and F-score are ill-defined and being set to 0.0 in labels with no predicted samples. Use `zero_division` parameter to control this behavior.\n",
            "  _warn_prf(average, modifier, msg_start, len(result))\n"
          ]
        }
      ],
      "source": [
        "results_plotter(model_c, res_model_c, fig_name = 'Optimized CNN Model L2 Regularization', report = True)"
      ]
    },
    {
      "cell_type": "markdown",
      "source": [
        "#### OBSERVATIONS:\n",
        "This model implementing L2 regularization has performed nearly identically to the previous model.  At this stage, L2 regularization does not appear to be helping to improve the model performance."
      ],
      "metadata": {
        "id": "DXcZKJNs44oK"
      }
    },
    {
      "cell_type": "markdown",
      "metadata": {
        "id": "VtsXmezOMMet"
      },
      "source": [
        "# 4 - Overall Observations\n",
        "* It's unclear if adding multiple addtional convolutional layers to a model betond those in the initial CNN model actually serves to increase performance\n",
        "* The best model from an accuracy standpoint impletemented class weights\n",
        "* Additional techniques such as image augmentation, and regualrization appear to adversely impacted model performance"
      ]
    }
  ],
  "metadata": {
    "accelerator": "GPU",
    "colab": {
      "provenance": []
    },
    "gpuClass": "standard",
    "kernelspec": {
      "display_name": "Python 3",
      "name": "python3"
    },
    "language_info": {
      "name": "python"
    }
  },
  "nbformat": 4,
  "nbformat_minor": 0
}