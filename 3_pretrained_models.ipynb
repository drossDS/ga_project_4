{
  "nbformat": 4,
  "nbformat_minor": 0,
  "metadata": {
    "colab": {
      "provenance": [],
      "gpuType": "T4"
    },
    "kernelspec": {
      "name": "python3",
      "display_name": "Python 3"
    },
    "language_info": {
      "name": "python"
    },
    "accelerator": "GPU",
    "gpuClass": "standard"
  },
  "cells": [
    {
      "cell_type": "markdown",
      "source": [
        "---\n",
        "# Severity Classification of Alzheimer's Disease Using MRI Images\n",
        "## Jason Lu, Juan Marcucci, Dan Rossetti\n",
        "---\n",
        "---"
      ],
      "metadata": {
        "id": "RF5NXZMa71Go"
      }
    },
    {
      "cell_type": "markdown",
      "source": [
        "# NOTEBOOK 3 - Pre-Trained Models\n",
        "Notebook Summary:\n",
        "\n",
        "This notebook seeks to determine if pre-trained models can produce better results when attempting to classify the different classes of brain scans.\n",
        "\n",
        "---\n",
        "---"
      ],
      "metadata": {
        "id": "Ny-QED7WqAd3"
      }
    },
    {
      "cell_type": "markdown",
      "source": [
        "#  WARNING:  NOTEBOOK MUST BE RUN IN GOOGLE COLAB\n",
        "\n",
        "Due to the computational demands of the convolutional neural networks used in this model requiring GPUs, this project was created entirely on Google Colab.\n",
        "\n",
        "Further, the data are imported by cloning the Github repo where all of the project materials are stored into Google Colab so that the code can be run anywhere with the relative paths in this notebook.  With that, these relative paths will not work outside of Google Colab.\n",
        "\n",
        "---\n",
        "---"
      ],
      "metadata": {
        "id": "5YPTt4CE-U0I"
      }
    },
    {
      "cell_type": "markdown",
      "source": [
        "# 0 - Imports"
      ],
      "metadata": {
        "id": "EgSc3w0C7vQt"
      }
    },
    {
      "cell_type": "code",
      "source": [
        "# Basic imports\n",
        "import matplotlib.pyplot as plt\n",
        "import numpy as np\n",
        "import pandas as pd\n",
        "import seaborn as sns\n",
        "import os\n",
        "\n",
        "# Every method known to set random seeds (from the following sources):\n",
        "# Help with this import:  https://www.tensorflow.org/tutorials/quickstart/advanced\n",
        "import random\n",
        "import tensorflow as tf\n",
        "seed = 42\n",
        "# Source provided by Eric Bayless for help with this:  \n",
        "#  https://www.tensorflow.org/api_docs/python/tf/keras/utils/set_random_seed\n",
        "tf.keras.utils.set_random_seed(seed)\n",
        "random.seed(seed)\n",
        "np.random.seed(seed)\n",
        "# Help with code below from:  https://www.tensorflow.org/api_docs/python/tf/random/set_seed\n",
        "tf.random.set_seed(seed)\n",
        "\n",
        "# TensorFlow imports\n",
        "from tensorflow.keras.layers import Dense, Dropout, Flatten, Conv2D, MaxPooling2D, BatchNormalization\n",
        "from tensorflow.keras.models import Sequential\n",
        "from tensorflow.keras.preprocessing import image_dataset_from_directory\n",
        "from tensorflow.keras.preprocessing.image import img_to_array, load_img\n",
        "from tensorflow.keras import layers\n",
        "from tensorflow.keras.callbacks import EarlyStopping\n",
        "from tensorflow.keras.layers.experimental import preprocessing\n",
        "\n",
        "# Evaluation imports\n",
        "from sklearn.metrics import ConfusionMatrixDisplay, accuracy_score, classification_report\n",
        "from sklearn.metrics import roc_auc_score\n",
        "\n",
        "# Pre-Trained Models:\n",
        "#EffieicntNetB0:\n",
        "from tensorflow.keras.applications import EfficientNetB0\n",
        "from tensorflow.keras.layers import GlobalAveragePooling2D\n",
        "from tensorflow.keras.optimizers import Adam\n",
        "\n",
        "# VGG Models:\n",
        "from tensorflow.keras.layers.experimental import preprocessing\n",
        "from tensorflow.keras.applications import VGG19, VGG16\n",
        "from tensorflow.keras.models import Model\n",
        "from tensorflow.keras.applications.vgg16 import preprocess_input\n",
        "from tensorflow.keras.applications.vgg19 import preprocess_input\n",
        "\n",
        "# InceptionV3:\n",
        "from tensorflow.keras.applications.inception_v3 import InceptionV3, preprocess_input"
      ],
      "metadata": {
        "id": "XA_LK9JiSzEY"
      },
      "execution_count": null,
      "outputs": []
    },
    {
      "cell_type": "markdown",
      "metadata": {
        "id": "f8VB3Jjwgf_b"
      },
      "source": [
        "# 1 - Connect to Github, Read Data\n",
        "These are the same steps as perfomred in all other notebooks to gather the data.\n",
        "\n",
        "As they have been previously established and commented, they are combined into a single cell for space and notebook readability."
      ]
    },
    {
      "cell_type": "code",
      "execution_count": null,
      "metadata": {
        "colab": {
          "base_uri": "https://localhost:8080/"
        },
        "outputId": "59fd0d99-c4f1-4cd2-eded-4ae9ae030ad9",
        "id": "WPAWsFrigf_c"
      },
      "outputs": [
        {
          "output_type": "stream",
          "name": "stdout",
          "text": [
            "rm: cannot remove 'ga_project_4/': No such file or directory\n",
            "Cloning into 'ga_project_4'...\n",
            "remote: Enumerating objects: 6488, done.\u001b[K\n",
            "remote: Counting objects: 100% (64/64), done.\u001b[K\n",
            "remote: Compressing objects: 100% (45/45), done.\u001b[K\n",
            "remote: Total 6488 (delta 23), reused 45 (delta 16), pack-reused 6424\u001b[K\n",
            "Receiving objects: 100% (6488/6488), 157.10 MiB | 14.49 MiB/s, done.\n",
            "Resolving deltas: 100% (25/25), done.\n",
            "/content/ga_project_4\n",
            "/content/ga_project_4/data\n"
          ]
        }
      ],
      "source": [
        "# Clear out the directory in case the code is re-run top to bottom.\n",
        "!rm -r ga_project_4/\n",
        "\n",
        "# Inspiration to do this from:  https://stackoverflow.com/questions/65386157/importing-images-from-github-to-colab\n",
        "# Code help from:  https://neptune.ai/blog/google-colab-dealing-with-files\n",
        "!git clone https://github.com/drossDS/ga_project_4.git\n",
        "\n",
        "# Help with this code to cd into folders from:  \n",
        "#  https://stackoverflow.com/questions/48298146/changing-directory-in-google-colab-breaking-out-of-the-python-interpreter\n",
        "%cd ga_project_4/\n",
        "%cd data/\n",
        "\n",
        "# Unzip data\n",
        "!unzip -q archive.zip"
      ]
    },
    {
      "cell_type": "markdown",
      "metadata": {
        "id": "2kMi39bvgf_d"
      },
      "source": [
        "# 2 - Create Training and Validation Datasets, Import Testing Dataset\n",
        "The code below is the same code used in notebooks 1 through 3 to import the data for multi-class classification"
      ]
    },
    {
      "cell_type": "code",
      "execution_count": null,
      "metadata": {
        "colab": {
          "base_uri": "https://localhost:8080/"
        },
        "outputId": "5d3ff2fc-398e-46ae-e69a-1184e60c383b",
        "id": "CYw73N9tgf_e"
      },
      "outputs": [
        {
          "output_type": "stream",
          "name": "stdout",
          "text": [
            "Found 5121 files belonging to 4 classes.\n",
            "Using 4097 files for training.\n",
            "Found 5121 files belonging to 4 classes.\n",
            "Using 1024 files for validation.\n",
            "Found 1279 files belonging to 4 classes.\n"
          ]
        }
      ],
      "source": [
        "# Create the training dataset using a 80/20 train/validation split\n",
        "train_ds = image_dataset_from_directory(\n",
        "    '/content/ga_project_4/data/Alzheimer_s Dataset/train',\n",
        "    image_size = (208, 176),\n",
        "    batch_size = 32,\n",
        "    seed = 42,\n",
        "    validation_split = 0.20,\n",
        "    subset = 'training',\n",
        "    label_mode = 'categorical',\n",
        ")\n",
        "\n",
        "val_ds = image_dataset_from_directory(\n",
        "    '/content/ga_project_4/data/Alzheimer_s Dataset/train',\n",
        "    image_size = (208, 176),\n",
        "    batch_size = 32,\n",
        "    seed = 42,\n",
        "    validation_split = 0.20,\n",
        "    subset = 'validation', \n",
        "    label_mode = 'categorical',\n",
        ")\n",
        "\n",
        "'''\n",
        "The testing dataset will be imported in a similar manner, but\n",
        "does not need to be batched or split.  So some of the arguments input\n",
        "previously will not need to be called.\n",
        "\n",
        "NOTE:  Below, 'shuffle' must be set to false.  It was discovered that every time\n",
        "that test_ds is called (even just to extract the target values), different \n",
        "values were being provided each time that the extraction was run.  Turning\n",
        "off shuffle (by setting it to false) proved effective in producing consistent\n",
        "target values for the testing dataset.\n",
        "'''\n",
        "test_ds = image_dataset_from_directory(\n",
        "    '/content/ga_project_4/data/Alzheimer_s Dataset/test',\n",
        "    image_size = (208, 176),\n",
        "    label_mode = 'categorical',\n",
        "    seed = 42,\n",
        "    shuffle = False\n",
        ")"
      ]
    },
    {
      "cell_type": "markdown",
      "metadata": {
        "id": "gMgf6Aongf_e"
      },
      "source": [
        "# 3 - Modeling - Pre-Trained Models and Transfer Learning\n",
        "Here, pretrained models are used to implement transfer learning.  These models have been trained on a variety of different image datasets by third parties and come with all of the trained parameters stored in the model.  These will be used to attempt to get better performance on the MRI image data.\n",
        "\n",
        "## Evaluation Metrics\n",
        "The primary evaluation metric that will be used is the accuracy.  Aiming for a model with the best possible accuracy is an all-encompassing strategy to target model optimization and for model selection given that this is a multi-class classification model with a primary focus on prediction.\n",
        "\n",
        "Clinically, the recall (sensitivity) for each class will also need to be examined, particularly for the Very Mild Dementia, Mild Dementia, and Moderate Dementia classes.  Recall will provide a good indication of how much of each class is being properly identified.  This is important when considering that the goal of this model in a medical setting would be to identify dementia so that treatement options can be prescribed.  If recall is low, that would mean that the demential class(es) is not being identified which may prevent patients from receiving treatment."
      ]
    },
    {
      "cell_type": "markdown",
      "metadata": {
        "id": "HnlWbIC_N2OU"
      },
      "source": [
        "## 3.1 - Modeling Functions\n",
        "Below, a variety of functions are created to perform repetetive tasks more efficiently in the code.\n"
      ]
    },
    {
      "cell_type": "code",
      "execution_count": null,
      "metadata": {
        "id": "cHI4qU-Cgf_e"
      },
      "outputs": [],
      "source": [
        "'''\n",
        "*** THIS FUNCTION IS REQUIRED TO COMPARE PREDICTED CLASSES TO TRUE CLASSES ***\n",
        "\n",
        "Here a function is being defined which will extract and format the target data from the \n",
        "BatchDataset and then format it into an array of numbers that provide the class numbers.\n",
        "\n",
        "It will optionally convert this to a pandas series for pandas operations (like .value_counts()).\n",
        "'''\n",
        "\n",
        "def target_extractor(data_array, series=False):\n",
        "\n",
        "  # Source for help with the following line of code to extract classes:\n",
        "  #  https://stackoverflow.com/questions/56226621/how-to-extract-data-labels-back-from-tensorflow-dataset\n",
        "  '''\n",
        "  The list comprehension produces a list which is then turned into a numpy array with concatenate.  Note that\n",
        "  an array of 1 x 4 arrays is created, with 4 probabilties of belonging to each class.\n",
        "  '''\n",
        "  y = np.concatenate([y for x, y in data_array], axis=0)\n",
        "  \n",
        "  '''\n",
        "  The following argument takes the resulting array containing only probabilities of belonging\n",
        "  to each class, determines which is the largest probability class, and replaces the entire\n",
        "  1 x 4 array with a number corresponding to the highest probability class.  This soure was\n",
        "  helpful wiht this:  \n",
        "  https://stackoverflow.com/questions/68836551/keras-attributeerror-sequential-object-has-no-attribute-predict-classes\n",
        "  '''\n",
        "  y = np.argmax(y, axis = 1)\n",
        "\n",
        "  # Make y a pandas array for when .value_counts needs to be called\n",
        "  if series == True:\n",
        "    y = pd.Series(y)\n",
        "\n",
        "  return y"
      ]
    },
    {
      "cell_type": "code",
      "execution_count": null,
      "metadata": {
        "id": "frv5jNmIgf_f"
      },
      "outputs": [],
      "source": [
        "'''\n",
        "Create a function which will plot the final and best training and validation accuracies on a given model.\n",
        "'''\n",
        "\n",
        "def acc_printer(model):\n",
        "  # Print the training and testing accuracies\n",
        "  print(f\"Final Model Accuracy on Training Data:  {model.history['acc'][-1]}\")\n",
        "  print(f\"Final Model Accuracy on Validation Data:  {model.history['val_acc'][-1]}\")\n",
        "\n",
        "  print(f\"Best Model Accuracy on Training Data:  {model.history['acc'][np.argmax(model.history['acc'])]}\")\n",
        "  print(f\"Best Model Accuracy on Validation Data:  {model.history['val_acc'][np.argmax(model.history['val_acc'])]}\")"
      ]
    },
    {
      "cell_type": "code",
      "execution_count": null,
      "metadata": {
        "id": "H5hY58KcPdA5"
      },
      "outputs": [],
      "source": [
        "'''\n",
        "Create a fucntion which plots confusion matrix and gives accuracy stats\n",
        "'''\n",
        "\n",
        "def results_plotter(input_model,\n",
        "                    result_variable,\n",
        "                    report = False):\n",
        "  # Print the training and testing accuracies\n",
        "  acc_printer(result_variable)\n",
        "\n",
        "  # Get the model predictions\n",
        "  preds = input_model.predict(test_ds, verbose = 0)\n",
        "\n",
        "  # Convert the model predicitons into an array with class values\n",
        "  preds_arr = np.argmax(preds, axis = 1)\n",
        "  print(preds_arr.shape)\n",
        "  preds_arr\n",
        "\n",
        "  # Create a y_test array from test_ds that can be compared to the predictions\n",
        "  y_test = target_extractor(test_ds)\n",
        "  print(y_test.shape)\n",
        "  y_test\n",
        "\n",
        "  ConfusionMatrixDisplay.from_predictions(y_test, preds_arr)\n",
        "\n",
        "  # Help relabeling the axes from:  https://matplotlib.org/stable/api/_as_gen/matplotlib.pyplot.xticks.html\n",
        "  plt.xticks([0,1,2,3], ['mld', 'mod', 'none', 'vmld'])\n",
        "  plt.yticks([0,1,2,3], ['mld', 'mod', 'none', 'vmld']);\n",
        "  print(f'Model Accuracy on Test Data: {accuracy_score(y_test, preds_arr)} \\n')\n",
        "\n",
        "  if report == True:\n",
        "    print(classification_report(y_test, preds_arr, target_names = ['mild', 'moderate', \"none\", 'very_mild']))"
      ]
    },
    {
      "cell_type": "markdown",
      "source": [
        "## 3.2 - EfficientNetB0 Model"
      ],
      "metadata": {
        "id": "TVihdPnV63s1"
      }
    },
    {
      "cell_type": "code",
      "execution_count": null,
      "metadata": {
        "id": "mwsNUj7qMIsg",
        "colab": {
          "base_uri": "https://localhost:8080/"
        },
        "outputId": "e3f21862-9f2c-430b-c18d-0a40c3179872"
      },
      "outputs": [
        {
          "output_type": "stream",
          "name": "stdout",
          "text": [
            "Downloading data from https://storage.googleapis.com/keras-applications/efficientnetb0_notop.h5\n",
            "16705208/16705208 [==============================] - 2s 0us/step\n"
          ]
        }
      ],
      "source": [
        "# Instantiate EfficientNetB) and make it untrainable to preserve weights\n",
        "effnet = EfficientNetB0(include_top=False, weights='imagenet')\n",
        "effnet.trainable = False"
      ]
    },
    {
      "cell_type": "code",
      "execution_count": null,
      "metadata": {
        "id": "W8ZoA1FuMIqg",
        "colab": {
          "base_uri": "https://localhost:8080/",
          "height": 1000
        },
        "outputId": "86fa048b-c0ed-44cc-e615-c322d07231da"
      },
      "outputs": [
        {
          "output_type": "stream",
          "name": "stdout",
          "text": [
            "Epoch 1/20\n",
            "129/129 [==============================] - 26s 86ms/step - loss: 0.9866 - acc: 0.5399 - val_loss: 0.9844 - val_acc: 0.5479\n",
            "Epoch 2/20\n",
            "129/129 [==============================] - 8s 60ms/step - loss: 0.8828 - acc: 0.5924 - val_loss: 0.7863 - val_acc: 0.6201\n",
            "Epoch 3/20\n",
            "129/129 [==============================] - 8s 61ms/step - loss: 0.8199 - acc: 0.6261 - val_loss: 0.9345 - val_acc: 0.5752\n",
            "Epoch 4/20\n",
            "129/129 [==============================] - 8s 62ms/step - loss: 0.7971 - acc: 0.6366 - val_loss: 0.8150 - val_acc: 0.6084\n",
            "Epoch 5/20\n",
            "129/129 [==============================] - 9s 70ms/step - loss: 0.8377 - acc: 0.6244 - val_loss: 0.7737 - val_acc: 0.6367\n",
            "Epoch 6/20\n",
            "129/129 [==============================] - 8s 60ms/step - loss: 0.7469 - acc: 0.6683 - val_loss: 0.8763 - val_acc: 0.6055\n",
            "Epoch 7/20\n",
            "129/129 [==============================] - 8s 62ms/step - loss: 0.7562 - acc: 0.6600 - val_loss: 0.7377 - val_acc: 0.6602\n",
            "Epoch 8/20\n",
            "129/129 [==============================] - 8s 62ms/step - loss: 0.7393 - acc: 0.6693 - val_loss: 0.7114 - val_acc: 0.6748\n",
            "Epoch 9/20\n",
            "129/129 [==============================] - 8s 60ms/step - loss: 0.7194 - acc: 0.6712 - val_loss: 0.8358 - val_acc: 0.6309\n",
            "Epoch 10/20\n",
            "129/129 [==============================] - 8s 62ms/step - loss: 0.6969 - acc: 0.6912 - val_loss: 0.8272 - val_acc: 0.6318\n",
            "Epoch 11/20\n",
            "129/129 [==============================] - 9s 68ms/step - loss: 0.7115 - acc: 0.6846 - val_loss: 0.7594 - val_acc: 0.6650\n",
            "Epoch 12/20\n",
            "129/129 [==============================] - 8s 60ms/step - loss: 0.6958 - acc: 0.7025 - val_loss: 0.6819 - val_acc: 0.6953\n",
            "Epoch 13/20\n",
            "129/129 [==============================] - 8s 62ms/step - loss: 0.6769 - acc: 0.7032 - val_loss: 0.6938 - val_acc: 0.6865\n",
            "Epoch 14/20\n",
            "129/129 [==============================] - 9s 68ms/step - loss: 0.6807 - acc: 0.6983 - val_loss: 0.7991 - val_acc: 0.6387\n",
            "Epoch 15/20\n",
            "129/129 [==============================] - 8s 60ms/step - loss: 0.6592 - acc: 0.7056 - val_loss: 0.7387 - val_acc: 0.6768\n",
            "Epoch 16/20\n",
            "129/129 [==============================] - 8s 60ms/step - loss: 0.7224 - acc: 0.6895 - val_loss: 0.6989 - val_acc: 0.6875\n",
            "Epoch 17/20\n",
            "129/129 [==============================] - 8s 61ms/step - loss: 0.6237 - acc: 0.7230 - val_loss: 0.9413 - val_acc: 0.5850\n",
            "Epoch 18/20\n",
            "129/129 [==============================] - 8s 59ms/step - loss: 0.6583 - acc: 0.7166 - val_loss: 0.6471 - val_acc: 0.7256\n",
            "Epoch 19/20\n",
            "129/129 [==============================] - 8s 60ms/step - loss: 0.6216 - acc: 0.7247 - val_loss: 0.7345 - val_acc: 0.6592\n",
            "Epoch 20/20\n",
            "129/129 [==============================] - 8s 61ms/step - loss: 0.6268 - acc: 0.7159 - val_loss: 0.6809 - val_acc: 0.7090\n",
            "Final Model Accuracy on Training Data:  0.7158896923065186\n",
            "Final Model Accuracy on Validation Data:  0.708984375\n",
            "Best Model Accuracy on Training Data:  0.7246766090393066\n",
            "Best Model Accuracy on Validation Data:  0.7255859375\n",
            "(1279,)\n",
            "(1279,)\n",
            "Model Accuracy on Test Data: 0.5527756059421423 \n",
            "\n",
            "              precision    recall  f1-score   support\n",
            "\n",
            "        mild       0.55      0.27      0.36       179\n",
            "    moderate       1.00      0.33      0.50        12\n",
            "        none       0.70      0.54      0.61       640\n",
            "   very_mild       0.45      0.69      0.54       448\n",
            "\n",
            "    accuracy                           0.55      1279\n",
            "   macro avg       0.67      0.46      0.50      1279\n",
            "weighted avg       0.59      0.55      0.55      1279\n",
            "\n",
            "CPU times: user 2min 26s, sys: 16.8 s, total: 2min 43s\n",
            "Wall time: 3min 13s\n"
          ]
        },
        {
          "output_type": "display_data",
          "data": {
            "text/plain": [
              "<Figure size 640x480 with 2 Axes>"
            ],
            "image/png": "[encoded data removed]"
          },
          "metadata": {}
        }
      ],
      "source": [
        "%%time\n",
        "\n",
        "# THis model has been adapted from the class notes for transfer learning.\n",
        "model_effnet = Sequential()\n",
        "model_effnet.add(effnet)\n",
        "model_effnet.add(GlobalAveragePooling2D())\n",
        "model_effnet.add(Dense(4, activation = 'softmax'))\n",
        "\n",
        "model_effnet.compile(optimizer = Adam(learning_rate = 0.005), \n",
        "              loss = 'categorical_crossentropy', \n",
        "              metrics = ['acc'])\n",
        "\n",
        "res_cnn_effnet = model_effnet.fit(\n",
        "    train_ds,\n",
        "    validation_data = val_ds,\n",
        "    epochs = 20)\n",
        "\n",
        "results_plotter(model_effnet, res_cnn_effnet, report = True)"
      ]
    },
    {
      "cell_type": "markdown",
      "source": [
        "#### OBSERVATIONS:\n",
        "* EfficientNetB0 has a model accuracy of about 53%\n",
        "* The model has a difficult time converging with the validation accuracy never going above the low 70s percentage-wise\n",
        "* The recall values are more balanced between classes (though still coveirng a large range) compared to the manually built models"
      ],
      "metadata": {
        "id": "GT7EAI1fUtuG"
      }
    },
    {
      "cell_type": "markdown",
      "source": [
        "## 3.3 - VGG19"
      ],
      "metadata": {
        "id": "syXU6pM8MLzT"
      }
    },
    {
      "cell_type": "code",
      "source": [
        "%%time\n",
        "\n",
        "'''\n",
        "The following sources helped ot establish the code below:\n",
        "https://www.frontiersin.org/articles/10.3389/fnhum.2023.1150120/full\n",
        "https://koushik1102.medium.com/transfer-learning-with-vgg16-and-vgg19-the-simpler-way-ad4eec1e2997\n",
        "https://keras.io/guides/transfer_learning/\n",
        "https://keras.io/guides/functional_api/\n",
        "'''\n",
        "\n",
        "# Early stopping\n",
        "early_stopping = EarlyStopping(patience=4)\n",
        "\n",
        "vgg = VGG19(include_top=False, weights='imagenet', input_shape=(208, 176, 3))\n",
        "\n",
        "# freeze the layers\n",
        "for layer in vgg.layers:\n",
        "    layer.trainable = False\n",
        "\n",
        "# image augmentation\n",
        "img_aug = Sequential([\n",
        "  layers.experimental.preprocessing.RandomFlip(\"horizontal_and_vertical\"),\n",
        "  layers.experimental.preprocessing.RandomRotation(0.2),\n",
        "])\n",
        "\n",
        "inputs = layers.Input(shape=(208, 176, 3))\n",
        "x = img_aug(inputs)\n",
        "\n",
        "# pre-process for VGG19\n",
        "\n",
        "x = preprocess_input(inputs) \n",
        "\n",
        "x = vgg(x, training=False)\n",
        "\n",
        "x = Flatten()(x) \n",
        "\n",
        "x = Dense(64, activation='relu')(x)\n",
        "\n",
        "x = BatchNormalization()(x)\n",
        "\n",
        "x = Dropout(0.5)(x)\n",
        "\n",
        "outputs = Dense(4, activation = 'softmax')(x)\n",
        "\n",
        "# Assemble the model\n",
        "model_vgg19 = Model(inputs=inputs, outputs=outputs)\n",
        "\n",
        "# Compile the model\n",
        "model_vgg19.compile(loss='categorical_crossentropy', optimizer='adam', metrics=['acc', tf.keras.metrics.AUC(curve='ROC')])\n",
        "\n",
        "# Fit the model to the data\n",
        "res_cnn_vgg19 = model_vgg19.fit(train_ds,\n",
        "                    epochs=20,\n",
        "                    batch_size=16,\n",
        "                    validation_data=val_ds,\n",
        "                    verbose=1,\n",
        "                    callbacks=[early_stopping])"
      ],
      "metadata": {
        "id": "Fq9X8bcY69PM",
        "colab": {
          "base_uri": "https://localhost:8080/"
        },
        "outputId": "7f45fe18-a30f-415a-80fc-fee233f996a4"
      },
      "execution_count": null,
      "outputs": [
        {
          "output_type": "stream",
          "name": "stdout",
          "text": [
            "Downloading data from https://storage.googleapis.com/tensorflow/keras-applications/vgg19/vgg19_weights_tf_dim_ordering_tf_kernels_notop.h5\n",
            "80134624/80134624 [==============================] - 4s 0us/step\n",
            "Epoch 1/20\n",
            "129/129 [==============================] - 26s 157ms/step - loss: 1.1575 - acc: 0.5301 - auc: 0.7698 - val_loss: 1.1192 - val_acc: 0.5674 - val_auc: 0.7805\n",
            "Epoch 2/20\n",
            "129/129 [==============================] - 20s 152ms/step - loss: 0.7059 - acc: 0.7154 - auc: 0.9147 - val_loss: 0.5777 - val_acc: 0.7715 - val_auc: 0.9459\n",
            "Epoch 3/20\n",
            "129/129 [==============================] - 20s 152ms/step - loss: 0.5166 - acc: 0.7952 - auc: 0.9550 - val_loss: 0.7409 - val_acc: 0.7002 - val_auc: 0.9057\n",
            "Epoch 4/20\n",
            "129/129 [==============================] - 21s 159ms/step - loss: 0.4033 - acc: 0.8462 - auc: 0.9728 - val_loss: 0.4146 - val_acc: 0.8408 - val_auc: 0.9710\n",
            "Epoch 5/20\n",
            "129/129 [==============================] - 19s 150ms/step - loss: 0.3292 - acc: 0.8802 - auc: 0.9820 - val_loss: 0.4043 - val_acc: 0.8398 - val_auc: 0.9703\n",
            "Epoch 6/20\n",
            "129/129 [==============================] - 20s 152ms/step - loss: 0.2838 - acc: 0.8955 - auc: 0.9863 - val_loss: 0.4993 - val_acc: 0.8193 - val_auc: 0.9599\n",
            "Epoch 7/20\n",
            "129/129 [==============================] - 20s 151ms/step - loss: 0.2302 - acc: 0.9207 - auc: 0.9917 - val_loss: 0.4981 - val_acc: 0.8086 - val_auc: 0.9630\n",
            "Epoch 8/20\n",
            "129/129 [==============================] - 20s 151ms/step - loss: 0.1942 - acc: 0.9341 - auc: 0.9939 - val_loss: 0.4343 - val_acc: 0.8350 - val_auc: 0.9673\n",
            "Epoch 9/20\n",
            "129/129 [==============================] - 19s 151ms/step - loss: 0.2071 - acc: 0.9229 - auc: 0.9924 - val_loss: 0.8472 - val_acc: 0.6865 - val_auc: 0.9046\n",
            "CPU times: user 1min 5s, sys: 11.9 s, total: 1min 17s\n",
            "Wall time: 3min 9s\n"
          ]
        }
      ]
    },
    {
      "cell_type": "code",
      "source": [
        "results_plotter(model_vgg19, res_cnn_vgg19, report = True)"
      ],
      "metadata": {
        "colab": {
          "base_uri": "https://localhost:8080/",
          "height": 784
        },
        "id": "AqU91yoE29-C",
        "outputId": "49246fa0-f2fb-4073-eab8-08fe94e6ff64"
      },
      "execution_count": null,
      "outputs": [
        {
          "output_type": "stream",
          "name": "stdout",
          "text": [
            "Final Model Accuracy on Training Data:  0.922870397567749\n",
            "Final Model Accuracy on Validation Data:  0.6865234375\n",
            "Best Model Accuracy on Training Data:  0.9340981245040894\n",
            "Best Model Accuracy on Validation Data:  0.8408203125\n",
            "(1279,)\n",
            "(1279,)\n",
            "Model Accuracy on Test Data: 0.5488663017982799 \n",
            "\n",
            "              precision    recall  f1-score   support\n",
            "\n",
            "        mild       0.27      0.84      0.40       179\n",
            "    moderate       0.73      0.67      0.70        12\n",
            "        none       0.81      0.55      0.65       640\n",
            "   very_mild       0.72      0.43      0.54       448\n",
            "\n",
            "    accuracy                           0.55      1279\n",
            "   macro avg       0.63      0.62      0.57      1279\n",
            "weighted avg       0.70      0.55      0.58      1279\n",
            "\n"
          ]
        },
        {
          "output_type": "display_data",
          "data": {
            "text/plain": [
              "<Figure size 640x480 with 2 Axes>"
            ],
            "image/png": "[encoded data removed]"
          },
          "metadata": {}
        }
      ]
    },
    {
      "cell_type": "markdown",
      "source": [
        "#### OBSERVATIONS:\n",
        "* VGG19 yields an accuracy of 55%\n",
        "* The recall values are all above 40% making this one of the better models from a sensitivity standpoint"
      ],
      "metadata": {
        "id": "A7idXH3nVVbA"
      }
    },
    {
      "cell_type": "markdown",
      "source": [
        "## 3.4 - VGG16"
      ],
      "metadata": {
        "id": "0xwntGH2MvbA"
      }
    },
    {
      "cell_type": "code",
      "source": [
        "%%time\n",
        "\n",
        "# The sources cited in VGG19 were also used here to establish VGG16\n",
        "\n",
        "# Early stopping\n",
        "early_stopping = EarlyStopping(patience=4)\n",
        "\n",
        "vgg = VGG16(include_top=False, weights='imagenet', input_shape=(208, 176, 3))\n",
        "\n",
        "# freeze the layers\n",
        "for layer in vgg.layers:\n",
        "    layer.trainable = False\n",
        "\n",
        "# input layer\n",
        "inputs = layers.Input(shape=(208, 176, 3))\n",
        "\n",
        "# pre-process for VGG16\n",
        "\n",
        "x = preprocess_input(inputs) \n",
        "\n",
        "x = vgg(x, training=False)\n",
        "\n",
        "x = Flatten()(x) \n",
        "\n",
        "x = Dense(64, activation='relu')(x)\n",
        "\n",
        "x = BatchNormalization()(x)\n",
        "\n",
        "x = Dropout(0.2)(x)\n",
        "\n",
        "outputs = Dense(4, activation = 'softmax')(x)\n",
        "\n",
        "# Assemble the model\n",
        "model_vgg16 = Model(inputs=inputs, outputs=outputs)\n",
        "\n",
        "# Compile the model\n",
        "model_vgg16.compile(loss='categorical_crossentropy', optimizer='adam', metrics=['acc'])\n",
        "\n",
        "# Fit the model to the data\n",
        "res_cnn_vgg16 = model_vgg16.fit(train_ds,\n",
        "                    epochs=20,\n",
        "                    batch_size=16,\n",
        "                    validation_data=val_ds,\n",
        "                    verbose=1,\n",
        "                    callbacks=[early_stopping])"
      ],
      "metadata": {
        "id": "4ROdC-UyzBOa",
        "colab": {
          "base_uri": "https://localhost:8080/"
        },
        "outputId": "36b15539-1ef0-4202-8f88-cd96ce548ef8"
      },
      "execution_count": null,
      "outputs": [
        {
          "output_type": "stream",
          "name": "stdout",
          "text": [
            "Downloading data from https://storage.googleapis.com/tensorflow/keras-applications/vgg16/vgg16_weights_tf_dim_ordering_tf_kernels_notop.h5\n",
            "58889256/58889256 [==============================] - 3s 0us/step\n",
            "Epoch 1/20\n",
            "129/129 [==============================] - 18s 124ms/step - loss: 0.9946 - acc: 0.6241 - val_loss: 1.6079 - val_acc: 0.5645\n",
            "Epoch 2/20\n",
            "129/129 [==============================] - 18s 140ms/step - loss: 0.5297 - acc: 0.8011 - val_loss: 0.5254 - val_acc: 0.7881\n",
            "Epoch 3/20\n",
            "129/129 [==============================] - 16s 125ms/step - loss: 0.3448 - acc: 0.8738 - val_loss: 0.5785 - val_acc: 0.7666\n",
            "Epoch 4/20\n",
            "129/129 [==============================] - 18s 139ms/step - loss: 0.2183 - acc: 0.9256 - val_loss: 0.4417 - val_acc: 0.8379\n",
            "Epoch 5/20\n",
            "129/129 [==============================] - 16s 125ms/step - loss: 0.1709 - acc: 0.9412 - val_loss: 0.4141 - val_acc: 0.8496\n",
            "Epoch 6/20\n",
            "129/129 [==============================] - 16s 125ms/step - loss: 0.1478 - acc: 0.9497 - val_loss: 0.4594 - val_acc: 0.8408\n",
            "Epoch 7/20\n",
            "129/129 [==============================] - 16s 124ms/step - loss: 0.1010 - acc: 0.9678 - val_loss: 0.3075 - val_acc: 0.8887\n",
            "Epoch 8/20\n",
            "129/129 [==============================] - 16s 124ms/step - loss: 0.1019 - acc: 0.9670 - val_loss: 0.2611 - val_acc: 0.9102\n",
            "Epoch 9/20\n",
            "129/129 [==============================] - 16s 124ms/step - loss: 0.0755 - acc: 0.9758 - val_loss: 0.8021 - val_acc: 0.7783\n",
            "Epoch 10/20\n",
            "129/129 [==============================] - 16s 123ms/step - loss: 0.0596 - acc: 0.9834 - val_loss: 0.2786 - val_acc: 0.9043\n",
            "Epoch 11/20\n",
            "129/129 [==============================] - 18s 141ms/step - loss: 0.0453 - acc: 0.9873 - val_loss: 0.3081 - val_acc: 0.9082\n",
            "Epoch 12/20\n",
            "129/129 [==============================] - 16s 124ms/step - loss: 0.0851 - acc: 0.9700 - val_loss: 2.9607 - val_acc: 0.5117\n",
            "CPU times: user 1min 17s, sys: 13.2 s, total: 1min 30s\n",
            "Wall time: 3min 42s\n"
          ]
        }
      ]
    },
    {
      "cell_type": "code",
      "source": [
        "results_plotter(model_vgg16, res_cnn_vgg16, report = True)"
      ],
      "metadata": {
        "colab": {
          "base_uri": "https://localhost:8080/",
          "height": 903
        },
        "id": "lGLaLgSKhiIq",
        "outputId": "29c0c66a-0964-48ca-c3fe-5f82c0c1db63"
      },
      "execution_count": null,
      "outputs": [
        {
          "output_type": "stream",
          "name": "stdout",
          "text": [
            "Final Model Accuracy on Training Data:  0.9699780344963074\n",
            "Final Model Accuracy on Validation Data:  0.51171875\n",
            "Best Model Accuracy on Training Data:  0.9873077869415283\n",
            "Best Model Accuracy on Validation Data:  0.91015625\n",
            "(1279,)\n",
            "(1279,)\n",
            "Model Accuracy on Test Data: 0.3971853010164191 \n",
            "\n",
            "              precision    recall  f1-score   support\n",
            "\n",
            "        mild       0.38      0.18      0.25       179\n",
            "    moderate       0.00      0.00      0.00        12\n",
            "        none       0.87      0.07      0.14       640\n",
            "   very_mild       0.38      0.96      0.54       448\n",
            "\n",
            "    accuracy                           0.40      1279\n",
            "   macro avg       0.41      0.30      0.23      1279\n",
            "weighted avg       0.62      0.40      0.29      1279\n",
            "\n"
          ]
        },
        {
          "output_type": "stream",
          "name": "stderr",
          "text": [
            "/usr/local/lib/python3.10/dist-packages/sklearn/metrics/_classification.py:1344: UndefinedMetricWarning: Precision and F-score are ill-defined and being set to 0.0 in labels with no predicted samples. Use `zero_division` parameter to control this behavior.\n",
            "  _warn_prf(average, modifier, msg_start, len(result))\n",
            "/usr/local/lib/python3.10/dist-packages/sklearn/metrics/_classification.py:1344: UndefinedMetricWarning: Precision and F-score are ill-defined and being set to 0.0 in labels with no predicted samples. Use `zero_division` parameter to control this behavior.\n",
            "  _warn_prf(average, modifier, msg_start, len(result))\n",
            "/usr/local/lib/python3.10/dist-packages/sklearn/metrics/_classification.py:1344: UndefinedMetricWarning: Precision and F-score are ill-defined and being set to 0.0 in labels with no predicted samples. Use `zero_division` parameter to control this behavior.\n",
            "  _warn_prf(average, modifier, msg_start, len(result))\n"
          ]
        },
        {
          "output_type": "display_data",
          "data": {
            "text/plain": [
              "<Figure size 640x480 with 2 Axes>"
            ],
            "image/png": "[encoded data removed]"
          },
          "metadata": {}
        }
      ]
    },
    {
      "cell_type": "markdown",
      "source": [
        "#### OBSERVATIONS:\n",
        "* VGG19 has a rather low model accuacy of 40%\n",
        "* This model appears prefer to classify images as very mild dementia and this would explain why the accuracy of this model is so close the percentage of image samples which are in the very mild dementia class with a recall score of 96%"
      ],
      "metadata": {
        "id": "Grs_2CG7Vnud"
      }
    },
    {
      "cell_type": "markdown",
      "source": [
        "## 3.5 - InceptionV3"
      ],
      "metadata": {
        "id": "Kc3Vv3OvNVVz"
      }
    },
    {
      "cell_type": "code",
      "source": [
        "# The following soures were used oto establish this model:\n",
        "#  https://keras.io/api/applications/inceptionv3/\n",
        "#  https://cloud.google.com/tpu/docs/inception-v3-advanced\n",
        "\n",
        "# Early stopping\n",
        "early_stopping = EarlyStopping(patience=4)\n",
        "\n",
        "# Function to resize and rescale images\n",
        "def resize_and_rescale(image, label):\n",
        "    image = tf.image.resize(image, [299, 299])\n",
        "    image = preprocess_input(image) \n",
        "    return image, label\n",
        "\n",
        "# Create new datasets for InceptionV3 model\n",
        "train_ds_inception = train_ds.map(resize_and_rescale)\n",
        "val_ds_inception = val_ds.map(resize_and_rescale)\n",
        "test_ds_inception = test_ds.map(resize_and_rescale)\n",
        "\n",
        "\n",
        "# Load InceptionV3 model\n",
        "inception = InceptionV3(include_top=False, weights='imagenet', input_shape=(299, 299, 3))\n",
        "\n",
        "# freeze the layers\n",
        "for layer in inception.layers:\n",
        "    layer.trainable = False\n",
        "\n",
        "# input layer\n",
        "inputs = layers.Input(shape=(299, 299, 3))\n",
        "\n",
        "# pre-process for InceptionV3\n",
        "x = preprocess_input(inputs) \n",
        "\n",
        "x = inception(x, training=False)\n",
        "\n",
        "x = Flatten()(x) \n",
        "\n",
        "x = Dense(64, activation='relu')(x)\n",
        "\n",
        "x = BatchNormalization()(x)\n",
        "\n",
        "x = Dropout(0.2)(x)\n",
        "\n",
        "outputs = Dense(4, activation = 'softmax')(x)\n",
        "\n",
        "# Assemble the model\n",
        "model_inception = Model(inputs=inputs, outputs=outputs)\n",
        "\n",
        "# Compile the model\n",
        "model_inception.compile(loss='categorical_crossentropy', optimizer='adam', metrics=['acc'])\n",
        "\n",
        "# Fit the model to the data\n",
        "res_cnn_inception = model_inception.fit(train_ds_inception,\n",
        "                    epochs=20,\n",
        "                    batch_size=16,\n",
        "                    validation_data=val_ds_inception,\n",
        "                    verbose=1,\n",
        "                    callbacks=[early_stopping])"
      ],
      "metadata": {
        "colab": {
          "base_uri": "https://localhost:8080/"
        },
        "id": "vsI0444DkH8L",
        "outputId": "7a5b4f95-cbb5-4fc5-88a1-ec79287391dc"
      },
      "execution_count": null,
      "outputs": [
        {
          "output_type": "stream",
          "name": "stdout",
          "text": [
            "Downloading data from https://storage.googleapis.com/tensorflow/keras-applications/inception_v3/inception_v3_weights_tf_dim_ordering_tf_kernels_notop.h5\n",
            "87910968/87910968 [==============================] - 5s 0us/step\n",
            "Epoch 1/20\n",
            "129/129 [==============================] - 33s 193ms/step - loss: 1.1883 - acc: 0.5563 - val_loss: 1.1121 - val_acc: 0.5371\n",
            "Epoch 2/20\n",
            "129/129 [==============================] - 23s 176ms/step - loss: 0.6627 - acc: 0.7435 - val_loss: 0.6255 - val_acc: 0.7510\n",
            "Epoch 3/20\n",
            "129/129 [==============================] - 23s 175ms/step - loss: 0.3595 - acc: 0.8809 - val_loss: 0.5198 - val_acc: 0.7832\n",
            "Epoch 4/20\n",
            "129/129 [==============================] - 22s 166ms/step - loss: 0.2256 - acc: 0.9275 - val_loss: 0.3410 - val_acc: 0.8711\n",
            "Epoch 5/20\n",
            "129/129 [==============================] - 22s 167ms/step - loss: 0.1450 - acc: 0.9609 - val_loss: 0.2490 - val_acc: 0.8994\n",
            "Epoch 6/20\n",
            "129/129 [==============================] - 22s 167ms/step - loss: 0.1037 - acc: 0.9736 - val_loss: 0.2138 - val_acc: 0.9287\n",
            "Epoch 7/20\n",
            "129/129 [==============================] - 23s 177ms/step - loss: 0.0948 - acc: 0.9729 - val_loss: 0.3633 - val_acc: 0.8711\n",
            "Epoch 8/20\n",
            "129/129 [==============================] - 23s 174ms/step - loss: 0.0749 - acc: 0.9814 - val_loss: 0.2172 - val_acc: 0.9277\n",
            "Epoch 9/20\n",
            "129/129 [==============================] - 22s 170ms/step - loss: 0.0832 - acc: 0.9778 - val_loss: 0.1927 - val_acc: 0.9395\n",
            "Epoch 10/20\n",
            "129/129 [==============================] - 22s 169ms/step - loss: 0.0446 - acc: 0.9883 - val_loss: 0.1787 - val_acc: 0.9375\n",
            "Epoch 11/20\n",
            "129/129 [==============================] - 22s 170ms/step - loss: 0.0685 - acc: 0.9807 - val_loss: 0.1924 - val_acc: 0.9385\n",
            "Epoch 12/20\n",
            "129/129 [==============================] - 23s 174ms/step - loss: 0.0680 - acc: 0.9800 - val_loss: 0.3502 - val_acc: 0.8789\n",
            "Epoch 13/20\n",
            "129/129 [==============================] - 22s 172ms/step - loss: 0.0341 - acc: 0.9919 - val_loss: 0.1784 - val_acc: 0.9482\n",
            "Epoch 14/20\n",
            "129/129 [==============================] - 23s 173ms/step - loss: 0.0467 - acc: 0.9888 - val_loss: 0.9555 - val_acc: 0.7637\n",
            "Epoch 15/20\n",
            "129/129 [==============================] - 23s 176ms/step - loss: 0.0889 - acc: 0.9710 - val_loss: 0.1780 - val_acc: 0.9404\n",
            "Epoch 16/20\n",
            "129/129 [==============================] - 23s 176ms/step - loss: 0.0473 - acc: 0.9866 - val_loss: 0.2053 - val_acc: 0.9277\n",
            "Epoch 17/20\n",
            "129/129 [==============================] - 23s 174ms/step - loss: 0.0386 - acc: 0.9893 - val_loss: 0.3288 - val_acc: 0.9014\n",
            "Epoch 18/20\n",
            "129/129 [==============================] - 22s 170ms/step - loss: 0.0419 - acc: 0.9885 - val_loss: 0.1120 - val_acc: 0.9668\n",
            "Epoch 19/20\n",
            "129/129 [==============================] - 21s 165ms/step - loss: 0.0398 - acc: 0.9878 - val_loss: 0.2433 - val_acc: 0.9316\n",
            "Epoch 20/20\n",
            "129/129 [==============================] - 23s 176ms/step - loss: 0.0361 - acc: 0.9910 - val_loss: 0.1511 - val_acc: 0.9531\n"
          ]
        }
      ]
    },
    {
      "cell_type": "code",
      "source": [
        "# Print the training and testing accuracies\n",
        "acc_printer(res_cnn_inception)\n",
        "# Get the model predictions\n",
        "preds = model_inception.predict(test_ds_inception)\n",
        "\n",
        "# Convert the model predictions into an array with class values\n",
        "preds_arr = np.argmax(preds, axis = 1)\n",
        "print(preds_arr.shape)\n",
        "preds_arr\n",
        "# Create a y_test array from test_ds that can be compared to the predictions\n",
        "y_test = target_extractor(test_ds_inception)\n",
        "print(y_test.shape)\n",
        "y_test\n",
        "ConfusionMatrixDisplay.from_predictions(y_test, preds_arr)\n",
        "\n",
        "# Help relabeling the axes from:  https://matplotlib.org/stable/api/_as_gen/matplotlib.pyplot.xticks.html\n",
        "plt.xticks([0,1,2,3], ['mld', 'mod', 'none', 'vmld'])\n",
        "plt.yticks([0,1,2,3], ['mld', 'mod', 'none', 'vmld']);\n",
        "print(f'Model Accuracy on Test Data: {accuracy_score(y_test, preds_arr)} \\n')"
      ],
      "metadata": {
        "colab": {
          "base_uri": "https://localhost:8080/",
          "height": 605
        },
        "id": "QFwD8gWkp9A_",
        "outputId": "8fddcc1a-6b66-4824-8320-a97ee6fefcbe"
      },
      "execution_count": null,
      "outputs": [
        {
          "output_type": "stream",
          "name": "stdout",
          "text": [
            "Final Model Accuracy on Training Data:  0.9909690022468567\n",
            "Final Model Accuracy on Validation Data:  0.953125\n",
            "Best Model Accuracy on Training Data:  0.9919453263282776\n",
            "Best Model Accuracy on Validation Data:  0.966796875\n",
            "40/40 [==============================] - 9s 190ms/step\n",
            "(1279,)\n",
            "(1279,)\n",
            "Model Accuracy on Test Data: 0.7138389366692729 \n",
            "\n"
          ]
        },
        {
          "output_type": "display_data",
          "data": {
            "text/plain": [
              "<Figure size 640x480 with 2 Axes>"
            ],
            "image/png": "[encoded data removed]"
          },
          "metadata": {}
        }
      ]
    },
    {
      "cell_type": "code",
      "source": [
        "print(classification_report(y_test, preds_arr, target_names = ['mild', 'moderate', \"none\", 'very_mild']))"
      ],
      "metadata": {
        "id": "NY8PaLiNURSR",
        "colab": {
          "base_uri": "https://localhost:8080/"
        },
        "outputId": "26cc7a69-c526-4ed6-a959-ee59475b23e9"
      },
      "execution_count": null,
      "outputs": [
        {
          "output_type": "stream",
          "name": "stdout",
          "text": [
            "              precision    recall  f1-score   support\n",
            "\n",
            "        mild       0.62      0.48      0.54       179\n",
            "    moderate       1.00      0.08      0.15        12\n",
            "        none       0.80      0.75      0.77       640\n",
            "   very_mild       0.64      0.77      0.70       448\n",
            "\n",
            "    accuracy                           0.71      1279\n",
            "   macro avg       0.77      0.52      0.54      1279\n",
            "weighted avg       0.72      0.71      0.71      1279\n",
            "\n"
          ]
        }
      ]
    },
    {
      "cell_type": "markdown",
      "source": [
        "#### OBSERVATIONS:\n",
        "* InceptionV3 has a model accuracy of 71%\n",
        "* Recall scores are varried as almost no moderate dementia images are correctly classified, but the recall scores for the No Dementia and Very Mild Dementia classes are quite strong at 75% and 77% respectively"
      ],
      "metadata": {
        "id": "5c8NHmfQu9Jb"
      }
    },
    {
      "cell_type": "markdown",
      "source": [
        "# Overall Observations\n",
        "Pre-trained model results are varried depending on the model.  However, InceptionV3 appears to have performed the best with an accuracy of 71%"
      ],
      "metadata": {
        "id": "Z5pD2Rh4W-Bx"
      }
    }
  ]
}